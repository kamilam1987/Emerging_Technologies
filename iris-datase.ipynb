{
 "cells": [
  {
   "cell_type": "markdown",
   "metadata": {},
   "source": [
    "# The Iris dataset"
   ]
  },
  {
   "cell_type": "markdown",
   "metadata": {},
   "source": [
    "![iris.png](img/iris.png)"
   ]
  },
  {
   "cell_type": "markdown",
   "metadata": {},
   "source": [
    "## Description\n",
    "This notebook contains information about the famous iris data set. This dataset has four features. Additionally, for each plant, the species was recorded. The purpose of this notebook is to try out algorithm for classification problem including the diﬃculty to separate the three classes of iris based on the variables in the dataset. \"Given these examples, if we see a new flower out in the field, could we make a good prediction about its species from its measurements?\" This is the supervised learning model which is described below in the notebook.\n",
    "\n",
    "\n"
   ]
  },
  {
   "cell_type": "markdown",
   "metadata": {},
   "source": [
    "## What is the Iris dataset?\n",
    "The Iris flower data set or Fisher's Iris data set is a multivariate data set introduced by the British statistician and\n",
    "biologist Ronald Fisher in his 1936 paper.<br>The data set consists of 50 samples from each of three species of Iris that is:\n",
    "- __Iris Setosa__ \n",
    "- __Iris Virginica__\n",
    "- __IrisVersicolor__\n",
    "\n",
    "Four features were measured from each sample. They are:\n",
    "- __Sepal Length__\n",
    "- __Sepal Width__\n",
    "- __Petal Length__\n",
    "- __Petal Width__\n",
    "\n",
    "All these four parameters are measured in Centimeters. Based on the combination of these four\n",
    "features, the species among three can be predicted.\n"
   ]
  },
  {
   "cell_type": "markdown",
   "metadata": {},
   "source": [
    "### What is Supervised Learning?\n",
    "In supervised learning, we start with importing dataset containing training attributes and the target attributes. The Supervised Learning algorithm will learn the relation between training examples and their associated target variables and apply that learned relationship to classify entirely new inputs.\n",
    "\n",
    "Based on the given datasets the machine learning problem is categorised into two types:\n",
    " - __Classification:__ samples belong to two or more classes and we want to learn from already labeled data how to predict the class of unlabeled data.\n",
    " - __Regression:__ if the desired output consists of one or more continuous variables, then the task is called regression.\n",
    "\n",
    "__The iris dataset is a classification task__ consisting in identifying 3 different types of irises (Setosa, Versicolour, and Virginica) from their petal and sepal length and width."
   ]
  },
  {
   "cell_type": "markdown",
   "metadata": {},
   "source": []
  },
  {
   "cell_type": "markdown",
   "metadata": {},
   "source": [
    "#### References:\n"
   ]
  },
  {
   "cell_type": "markdown",
   "metadata": {},
   "source": [
    "http://www.askaswiss.com/2017/12/how-to-classify-iris-species-using-logistic-regression.html\n",
    "\n",
    "https://towardsdatascience.com/supervised-learning-with-python-cf2c1ae543c1\n",
    "\n",
    "https://searchenterpriseai.techtarget.com/definition/supervised-learning\n",
    "\n",
    "http://scikit-learn.org/stable/tutorial/basic/tutorial.html\n",
    "\n",
    "https://diwashrestha.com/2017/09/18/machine-learning-on-iris/\n",
    "\n",
    "https://machinelearningmastery.com/machine-learning-in-python-step-by-step/"
   ]
  }
 ],
 "metadata": {
  "kernelspec": {
   "display_name": "Python 3",
   "language": "python",
   "name": "python3"
  },
  "language_info": {
   "codemirror_mode": {
    "name": "ipython",
    "version": 3
   },
   "file_extension": ".py",
   "mimetype": "text/x-python",
   "name": "python",
   "nbconvert_exporter": "python",
   "pygments_lexer": "ipython3",
   "version": "3.6.5"
  }
 },
 "nbformat": 4,
 "nbformat_minor": 2
}
