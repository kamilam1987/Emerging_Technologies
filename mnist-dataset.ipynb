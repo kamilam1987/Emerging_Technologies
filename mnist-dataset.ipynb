{
 "cells": [
  {
   "cell_type": "markdown",
   "metadata": {},
   "source": [
    "## THE MNIST DATABASE"
   ]
  },
  {
   "cell_type": "markdown",
   "metadata": {},
   "source": [
    "![Mnistdata.png](img/Mnistdata.png)"
   ]
  },
  {
   "cell_type": "markdown",
   "metadata": {},
   "source": [
    "### 1.Description\n",
    "This notebook contains information about the MNIST data set.The purpose of this notebook is to explain how to\n",
    "read the MNIST dataset efficiently into memory in Python."
   ]
  },
  {
   "cell_type": "markdown",
   "metadata": {},
   "source": [
    "### 2.What is the MNIST dataset?\n",
    "The MNIST problem is a dataset developed by Yann LeCun, Corinna Cortes and Christopher Burges for evaluating machine learning models on the handwritten digit classification problem. Images of digits were taken from a variety of scanned documents, normalized in size and centered. MNIST contains 70,000 images of handwritten digits: 60,000 for training and 10,000 for testing.\n",
    "\n",
    "#### The dataset consists of pair, “handwritten digit image” and “label”. Digit ranges from 0 to 9, meaning 10 patterns in total.\n",
    "- __handwritten digit image:__ This is gray scale image with size 28 x 28 pixel  square (784 pixels total). A standard spit of the dataset is used to evaluate and compare models, where 60,000 images are used to train a model and a separate set of 10,000 images are used to test it.\n",
    "- __label :__ This is actual digit number this handwritten digit image represents. It is either  0 to 9. Results are reported using prediction error, which is nothing more than the inverted classification accuracy."
   ]
  },
  {
   "cell_type": "markdown",
   "metadata": {},
   "source": [
    "![mnist_plot.png](img/mnist_plot.png)"
   ]
  },
  {
   "cell_type": "markdown",
   "metadata": {},
   "source": [
    "## 3. How is stored?\n",
    "The training and testing data of the MNIST database is stored in compressed IDX formatted files. It is a binary file format. The IDX file format is a simple format for vectors and multidimensional matrices of various numerical types. Reason for storing data in that format is a performance and memory requirements. Binary file formats are far better than text file formats like CSV. Storing data in binary format takes less memory, which is really an added advantage when a large volume of data needs to be stored. Information about __IDX file format__ can be found [here](http://www.fon.hum.uva.nl/praat/manual/IDX_file_format.html).\n",
    "\n",
    "The basic format is\n",
    "\n",
    "magic number<br>\n",
    " size in dimension 0<br>\n",
    " size in dimension 1<br>\n",
    " size in dimension 2<br>\n",
    " …..<br>\n",
    " size in dimension N<br>\n",
    " data<br>\n",
    " \n",
    "The magic number is an integer (MSB first). The first 2 bytes are always 0.<br>\n",
    "\n",
    "The third byte codes the type of the data:<br>\n",
    " 0x08: unsigned byte<br>\n",
    " 0x09: signed byte<br>\n",
    " 0x0B: short (2 bytes)<br>\n",
    " 0x0C: int (4 bytes)<br>\n",
    " 0x0D: float (4 bytes)<br>\n",
    " 0x0E: double (8 bytes)<br>\n",
    " \n",
    "The 4-th byte codes the number of dimensions of the vector/matrix: 1 for vectors, 2 for matrices….<br>\n",
    "The sizes in each dimension are 4-byte integers (MSB first, high endian, like in most non-Intel processors).<br>\n",
    "The data is stored like in a C array, i.e. the index in the last dimension changes the fastest.<br>\n"
   ]
  },
  {
   "cell_type": "markdown",
   "metadata": {},
   "source": [
    "### 3.1 Explanation\n",
    "__TRAINING SET IMAGE FILE (train-images-idx3-ubyte):__<br>\n",
    "[offset] [type] [value] [description]<br>\n",
    " 0000 32 bit integer 0x00000803(2051) magic number<br>\n",
    " 0004 32 bit integer 60000 number of images<br>\n",
    " 0008 32 bit integer 28 number of rows<br>\n",
    " 0012 32 bit integer 28 number of columns<br>\n",
    " 0016 unsigned byte ?? pixel<br>\n",
    " 0017 unsigned byte ?? pixel<br>\n",
    " ……..<br>\n",
    " xxxx unsigned byte ?? pixel<br>\n",
    " \n",
    "In magic number magic number the first two digits are 0x00 and 0x00, where each HEX digit is represented by 4 binary bits. So, two HEX digits makes a 8-bit binary number or a byte. The 3rd byte is the type of data, which is 0x08, the data format is unsigned byte having value from 0 to 255. The 4th byte is the number of dimensions, which is 0x03. The next 3 bytes give information about the sizes of the data in the 3 dimensions.<br>\n",
    "Each byte from 16th byte onward, contains pixel data, and the type of the data is unsigned byte, i.e. each pixel data is contained in a 8-bit binary digit, having value from 0 to 255."
   ]
  },
  {
   "cell_type": "markdown",
   "metadata": {},
   "source": [
    "### 4. Prepare the data\n",
    "Remember to download four files wich are required for this notebook:\n",
    "\n",
    "- train-images-idx3-ubyte: training set images \n",
    "- labels-idx1-ubyte: training set labels \n",
    "- t10k-images-idx3-ubyte:  test set images \n",
    "- t10k-labels-idx1-ubyte:  test set labels\n",
    "\n",
    "You can find them under this [link](http://yann.lecun.com/exdb/mnist/). Next create folder called __data__ and save those files. \n",
    "\n",
    "\n",
    "Reading the uncompressed file train-images-idx3-ubyte with 60000 images of 28×28 pixel data, will result in a new Matrix object with 60000 rows and 784 (=28×28) columns. Each cell will contain a number in the interval from 0 to 255.\n",
    "\n",
    "Reading the uncompressed file train-labels-idx1-ubyte with 60000 labels will result in a new Matrix object with 1 row and 60000 columns. Each cell will contain a number in the interval from 0 to 9."
   ]
  },
  {
   "cell_type": "markdown",
   "metadata": {},
   "source": [
    "###  4.1 Unzip the files \n",
    "To unzip the files we can use Python Library which is called __gzip__ . Source code and more information about it can be found  [here](https://docs.python.org/3/library/gzip.html)."
   ]
  },
  {
   "cell_type": "markdown",
   "metadata": {},
   "source": [
    "#### 4.1.1 TEST SET IMAGE FILE (t10k-images-idx3-ubyte)"
   ]
  },
  {
   "cell_type": "code",
   "execution_count": 1,
   "metadata": {},
   "outputs": [],
   "source": [
    "# Source code adapted from https://docs.python.org/3/library/gzip.html\n",
    "# Import gzip\n",
    "import gzip \n",
    "\n",
    "# Open test file with images and read bytes from files\n",
    "with gzip.open('data/t10k-images-idx3-ubyte.gz', 'rb') as f:\n",
    "    file_content = f.read()\n",
    "    "
   ]
  },
  {
   "cell_type": "markdown",
   "metadata": {},
   "source": [
    "#### 4.1.2 TEST SET LABEL FILE (t10k-labels-idx1-ubyte)"
   ]
  },
  {
   "cell_type": "code",
   "execution_count": 2,
   "metadata": {},
   "outputs": [],
   "source": [
    "# Source code adapted from https://docs.python.org/3/library/gzip.html\n",
    "# Import gzip\n",
    "import gzip \n",
    "\n",
    "# Open test file with labels and read bytes from files\n",
    "with gzip.open('data/t10k-labels-idx1-ubyte.gz', 'rb') as f:\n",
    "    labels = f.read()"
   ]
  },
  {
   "cell_type": "markdown",
   "metadata": {},
   "source": [
    "###  4.2 Determine file type\n",
    "Python supports a range of types to store sequences. There are six sequence types: strings, byte sequences (bytes objects), byte arrays (bytearray objects), lists, tuples, and range objects."
   ]
  },
  {
   "cell_type": "markdown",
   "metadata": {},
   "source": [
    "#### 4.2.1 TEST SET IMAGE FILE (t10k-images-idx3-ubyte)"
   ]
  },
  {
   "cell_type": "code",
   "execution_count": 3,
   "metadata": {},
   "outputs": [
    {
     "data": {
      "text/plain": [
       "bytes"
      ]
     },
     "execution_count": 3,
     "metadata": {},
     "output_type": "execute_result"
    }
   ],
   "source": [
    "# Checks type of file content\n",
    "type(file_content)"
   ]
  },
  {
   "cell_type": "code",
   "execution_count": 4,
   "metadata": {},
   "outputs": [
    {
     "data": {
      "text/plain": [
       "b'\\x00\\x00\\x08\\x03'"
      ]
     },
     "execution_count": 4,
     "metadata": {},
     "output_type": "execute_result"
    }
   ],
   "source": [
    "# Find out what first 4 bits are\n",
    "file_content[0:4]"
   ]
  },
  {
   "cell_type": "markdown",
   "metadata": {},
   "source": [
    "#### 4.2.2 TEST SET LABEL FILE (t10k-labels-idx1-ubyte)"
   ]
  },
  {
   "cell_type": "code",
   "execution_count": 5,
   "metadata": {},
   "outputs": [
    {
     "data": {
      "text/plain": [
       "bytes"
      ]
     },
     "execution_count": 5,
     "metadata": {},
     "output_type": "execute_result"
    }
   ],
   "source": [
    "# Checks type of file content\n",
    "type(labels)"
   ]
  },
  {
   "cell_type": "code",
   "execution_count": 6,
   "metadata": {},
   "outputs": [
    {
     "data": {
      "text/plain": [
       "b'\\x00\\x00\\x08\\x01'"
      ]
     },
     "execution_count": 6,
     "metadata": {},
     "output_type": "execute_result"
    }
   ],
   "source": [
    "# Find out what first 4 bits are\n",
    "labels[0:4]"
   ]
  },
  {
   "cell_type": "markdown",
   "metadata": {},
   "source": [
    "### 4.3. Convert Bytes to Integer\n",
    "The bytes type in Python is immutable and stores a sequence of values ranging from 0-255 (8-bits). You can get the value of a single byte by using an index like an array, but the values can not be modified."
   ]
  },
  {
   "cell_type": "markdown",
   "metadata": {},
   "source": [
    "#### 4.3.1 TEST SET IMAGE FILE (t10k-images-idx3-ubyte)"
   ]
  },
  {
   "cell_type": "code",
   "execution_count": 7,
   "metadata": {},
   "outputs": [
    {
     "data": {
      "text/plain": [
       "2051"
      ]
     },
     "execution_count": 7,
     "metadata": {},
     "output_type": "execute_result"
    }
   ],
   "source": [
    "# Source code adapted from: https://docs.python.org/3/library/stdtypes.html\n",
    "# First four bytes to int\n",
    "int.from_bytes(file_content[0:4], byteorder='big')"
   ]
  },
  {
   "cell_type": "markdown",
   "metadata": {},
   "source": [
    "#### 4.3.2 TEST SET LABEL FILE (t10k-labels-idx1-ubyte)"
   ]
  },
  {
   "cell_type": "code",
   "execution_count": 8,
   "metadata": {},
   "outputs": [
    {
     "data": {
      "text/plain": [
       "2049"
      ]
     },
     "execution_count": 8,
     "metadata": {},
     "output_type": "execute_result"
    }
   ],
   "source": [
    "# Source code adapted from: https://docs.python.org/3/library/stdtypes.html\n",
    "# First four bytes to int\n",
    "int.from_bytes(labels[0:4], byteorder='big')"
   ]
  },
  {
   "cell_type": "markdown",
   "metadata": {},
   "source": [
    "### OR"
   ]
  },
  {
   "cell_type": "code",
   "execution_count": 9,
   "metadata": {},
   "outputs": [
    {
     "data": {
      "text/plain": [
       "2051"
      ]
     },
     "execution_count": 9,
     "metadata": {},
     "output_type": "execute_result"
    }
   ],
   "source": [
    "# Source code adapted from: https://docs.python.org/3/library/stdtypes.html\n",
    "# First four bytes to int\n",
    "int.from_bytes(b'\\x00\\x00\\x08\\x03', byteorder='big')"
   ]
  },
  {
   "cell_type": "code",
   "execution_count": 10,
   "metadata": {},
   "outputs": [
    {
     "data": {
      "text/plain": [
       "2049"
      ]
     },
     "execution_count": 10,
     "metadata": {},
     "output_type": "execute_result"
    }
   ],
   "source": [
    "# Source code adapted from: https://docs.python.org/3/library/stdtypes.html\n",
    "# First four bytes to int\n",
    "int.from_bytes(b'\\x00\\x00\\x08\\x01', byteorder='big')"
   ]
  },
  {
   "cell_type": "markdown",
   "metadata": {},
   "source": [
    "The __byteorder__ argument determines the byte order used to represent the integer. If byteorder is \"big\", the most significant byte is at the beginning of the byte array. If byteorder is \"little\", the most significant byte is at the end of the byte array. Check this [link](https://en.wikipedia.org/wiki/Endianness) if you want to find out more about little and big endian.  "
   ]
  },
  {
   "cell_type": "code",
   "execution_count": 11,
   "metadata": {},
   "outputs": [
    {
     "name": "stdout",
     "output_type": "stream",
     "text": [
      "Number of images in a file: 10000. \n",
      "Number of rows in a file: 28. \n",
      "Number of columns in a file: 28. \n"
     ]
    }
   ],
   "source": [
    "# TEST SET IMAGE FILE (t10k-images-idx3-ubyte)\n",
    "print(\"Number of images in a file: {}. \".format(int.from_bytes(file_content[4:8], byteorder='big')))\n",
    "print(\"Number of rows in a file: {}. \".format(int.from_bytes(file_content[8:12], byteorder='big')))\n",
    "print(\"Number of columns in a file: {}. \".format(int.from_bytes(file_content[12:16], byteorder='big')))"
   ]
  },
  {
   "cell_type": "code",
   "execution_count": 12,
   "metadata": {},
   "outputs": [
    {
     "name": "stdout",
     "output_type": "stream",
     "text": [
      "Number of items in a file: 10000. \n",
      "Integer : 7 \n",
      "Integer : 9  \n"
     ]
    }
   ],
   "source": [
    "# TEST SET LABEL FILE (t10k-labels-idx1-ubyte)\n",
    "print(\"Number of items in a file: {}. \".format(int.from_bytes(labels[4:8], byteorder='big')))\n",
    "print(\"Integer : {} \".format(int.from_bytes(labels[8:9], byteorder='big')))\n",
    "print(\"Integer : {}  \".format(int.from_bytes(labels[15:16], byteorder='big')))"
   ]
  },
  {
   "cell_type": "markdown",
   "metadata": {},
   "source": [
    "### 5. Read a single image"
   ]
  },
  {
   "cell_type": "code",
   "execution_count": 13,
   "metadata": {},
   "outputs": [],
   "source": [
    "l = file_content[16:800]"
   ]
  },
  {
   "cell_type": "code",
   "execution_count": 14,
   "metadata": {},
   "outputs": [
    {
     "data": {
      "text/plain": [
       "bytes"
      ]
     },
     "execution_count": 14,
     "metadata": {},
     "output_type": "execute_result"
    }
   ],
   "source": [
    "# Checks type of the file content\n",
    "type(l)"
   ]
  },
  {
   "cell_type": "code",
   "execution_count": 15,
   "metadata": {},
   "outputs": [],
   "source": [
    "# Import numpy\n",
    "import numpy as np"
   ]
  },
  {
   "cell_type": "code",
   "execution_count": 16,
   "metadata": {},
   "outputs": [],
   "source": [
    "# Reshape image to 28 by 28 numpy array as unsigned 8 bit integer\n",
    "image = ~np.array(list(file_content[16:800])).reshape(28,28).astype(np.uint8)"
   ]
  },
  {
   "cell_type": "code",
   "execution_count": 17,
   "metadata": {},
   "outputs": [
    {
     "data": {
      "text/plain": [
       "<matplotlib.image.AxesImage at 0x258ae794a58>"
      ]
     },
     "execution_count": 17,
     "metadata": {},
     "output_type": "execute_result"
    }
   ],
   "source": [
    "# Import matplotlib\n",
    "import matplotlib.pyplot as plt\n",
    "\n",
    "# Shows image using \n",
    "plt.imshow(image,cmap='gray')"
   ]
  },
  {
   "cell_type": "markdown",
   "metadata": {},
   "source": [
    "### 6. Read a label"
   ]
  },
  {
   "cell_type": "code",
   "execution_count": 18,
   "metadata": {},
   "outputs": [
    {
     "data": {
      "text/plain": [
       "7"
      ]
     },
     "execution_count": 18,
     "metadata": {},
     "output_type": "execute_result"
    }
   ],
   "source": [
    "int.from_bytes(labels[8:9], byteorder=\"big\")"
   ]
  },
  {
   "cell_type": "markdown",
   "metadata": {},
   "source": [
    "### 7. Save image \n",
    "To save image from numpy array we can use __PIL__- Python Imaging Library which is a free library for the Python programming language that adds support for opening, manipulating, and saving many different image file formats. The Image module provides a class with the same name which is used to represent a PIL image. The module also provides a number of factory functions, including functions to load images from files, and to create new images."
   ]
  },
  {
   "cell_type": "code",
   "execution_count": 19,
   "metadata": {},
   "outputs": [],
   "source": [
    "# Source code adaptedfrom:https://stackoverflow.com/questions/6915106/saving-a-numpy-array-as-an-image-instructions\n",
    "# Import Image from PIL \n",
    "from PIL import Image\n",
    "# Takes image from numpy array\n",
    "im = Image.fromarray(image)\n",
    "# Saves as png image\n",
    "im.save(\"img/number.png\")\n",
    "# Saves as jpeg image\n",
    "im.save(\"img/number.jpeg\")"
   ]
  },
  {
   "cell_type": "markdown",
   "metadata": {},
   "source": [
    "### 8. Logistic Regression classifier"
   ]
  },
  {
   "cell_type": "markdown",
   "metadata": {},
   "source": [
    "### 8.1 Import Library and module"
   ]
  },
  {
   "cell_type": "code",
   "execution_count": 20,
   "metadata": {},
   "outputs": [],
   "source": [
    "# Removes warnings\n",
    "import warnings\n",
    "warnings.simplefilter(\"ignore\")\n",
    "\n",
    "# Import MNIST from sklearn.datasets\n",
    "from sklearn.datasets import fetch_mldata\n",
    "# Import train_test_split for traning and spliting MNIST data\n",
    "from sklearn.model_selection import train_test_split\n",
    "# Import numpy\n",
    "import numpy as np\n",
    "# Import matplotlib to show an images\n",
    "import matplotlib.pyplot as plt\n",
    "# Import LogisticRegression\n",
    "from sklearn.linear_model import LogisticRegression"
   ]
  },
  {
   "cell_type": "markdown",
   "metadata": {},
   "source": [
    "### 8.2 Splitting Data into Training and Test Sets"
   ]
  },
  {
   "cell_type": "code",
   "execution_count": 21,
   "metadata": {},
   "outputs": [
    {
     "name": "stdout",
     "output_type": "stream",
     "text": [
      "(70000, 784)\n",
      "(70000,)\n"
     ]
    },
    {
     "name": "stderr",
     "output_type": "stream",
     "text": [
      "C:\\Users\\Kamilka\\Anaconda3\\lib\\site-packages\\sklearn\\utils\\deprecation.py:77: DeprecationWarning: Function fetch_mldata is deprecated; fetch_mldata was deprecated in version 0.20 and will be removed in version 0.22\n",
      "  warnings.warn(msg, category=DeprecationWarning)\n",
      "C:\\Users\\Kamilka\\Anaconda3\\lib\\site-packages\\sklearn\\utils\\deprecation.py:77: DeprecationWarning: Function mldata_filename is deprecated; mldata_filename was deprecated in version 0.20 and will be removed in version 0.22\n",
      "  warnings.warn(msg, category=DeprecationWarning)\n"
     ]
    }
   ],
   "source": [
    "# Logistic Regression MNIST\n",
    "# Source code adapted from: https://www.codementor.io/mgalarny/making-your-first-machine-learning-classifier-in-scikit-learn-python-db7d7iqdh\n",
    "\n",
    "# Load the MNIST data\n",
    "mnist = fetch_mldata('MNIST original')\n",
    "\n",
    "# There are 70,000 images (28 by 28 images for a dimensionality of 784)\n",
    "# Shows the amount of images in MNIST dataset\n",
    "print(mnist.data.shape)\n",
    "\n",
    "# There are 70,000 labels \n",
    "# Shows the amount of labels in MNIST dataset\n",
    "print(mnist.target.shape)  "
   ]
  },
  {
   "cell_type": "markdown",
   "metadata": {},
   "source": [
    "### 8.3 Showing the Images and Labels"
   ]
  },
  {
   "cell_type": "code",
   "execution_count": 22,
   "metadata": {},
   "outputs": [
    {
     "data": {
      "image/png": "[encoded data removed]",
      "text/plain": [
       "<Figure size 1440x288 with 5 Axes>"
      ]
     },
     "metadata": {
      "needs_background": "light"
     },
     "output_type": "display_data"
    }
   ],
   "source": [
    "# Splits the data into training and test data sets the test_size=1/7.0, training set size 60,000 images and the test set size of 10,000\n",
    "train_img, test_img, train_lbl, test_lbl = train_test_split(mnist.data, mnist.target, test_size=1/7.0, random_state=0)\n",
    "\n",
    "# Determine figure size\n",
    "plt.figure(figsize=(20,4))\n",
    "\n",
    "# Loop through images and labels, shows the first five train images and the first five train labels\n",
    "for index, (image, label) in enumerate(zip(train_img[0:5], train_lbl[0:5])):\n",
    "    plt.subplot(1, 5, index + 1)\n",
    "    plt.imshow(np.reshape(image, (28,28)), cmap='gray')\n",
    "    plt.title('Training: %i\\n' % label, fontsize = 20)"
   ]
  },
  {
   "cell_type": "markdown",
   "metadata": {},
   "source": [
    "### 8.4 Measure Model Performance"
   ]
  },
  {
   "cell_type": "code",
   "execution_count": 23,
   "metadata": {},
   "outputs": [
    {
     "name": "stdout",
     "output_type": "stream",
     "text": [
      "Performance: 0.9194\n"
     ]
    }
   ],
   "source": [
    "# Makes an instance of the Model\n",
    "logisticRegr = LogisticRegression(solver = 'lbfgs', multi_class='multinomial')\n",
    "# Trains the model on the data and stores the information learned from the data\n",
    "logisticRegr.fit(train_img, train_lbl)\n",
    "# Predicts the labels of new images\n",
    "logisticRegr.predict(test_img[0].reshape(1,-1))\n",
    "# Predict for Multiple Observations (images) at Once\n",
    "logisticRegr.predict(test_img[0:10])\n",
    "# Make predictions on entire test data\n",
    "predictions = logisticRegr.predict(test_img)\n",
    "# Measures Model Performance\n",
    "score = logisticRegr.score(test_img, test_lbl)\n",
    "\n",
    "print(\"Performance: {}\" .format(score))"
   ]
  },
  {
   "cell_type": "markdown",
   "metadata": {},
   "source": [
    "### 8.References:\n",
    "\n",
    "https://corochann.com/mnist-dataset-introduction-1138.html\n",
    "\n",
    "https://machinelearningmastery.com/handwritten-digit-recognition-using-convolutional-neural-networks-python-keras/\n",
    "\n",
    "https://www.w3resource.com/python/python-bytes.php\n",
    "\n",
    "https://docs.python.org/3/library/gzip.html\n",
    "\n",
    "https://docs.python.org/3/library/stdtypes.html\n",
    "\n",
    "https://medium.com/@mannasiladittya/converting-mnist-data-in-idx-format-to-python-numpy-array-5cb9126f99f1\n",
    "\n",
    "https://pillow.readthedocs.io/en/3.1.x/reference/Image.html\n",
    "\n",
    "https://www.codementor.io/mgalarny/making-your-first-machine-learning-classifier-in-scikit-learn-python-db7d7iqdh"
   ]
  }
 ],
 "metadata": {
  "kernelspec": {
   "display_name": "Python 3",
   "language": "python",
   "name": "python3"
  },
  "language_info": {
   "codemirror_mode": {
    "name": "ipython",
    "version": 3
   },
   "file_extension": ".py",
   "mimetype": "text/x-python",
   "name": "python",
   "nbconvert_exporter": "python",
   "pygments_lexer": "ipython3",
   "version": "3.6.7"
  }
 },
 "nbformat": 4,
 "nbformat_minor": 2
}
