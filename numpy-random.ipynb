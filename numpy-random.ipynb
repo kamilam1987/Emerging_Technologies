{
 "cells": [
  {
   "cell_type": "markdown",
   "metadata": {},
   "source": [
    "# The numpy.random package"
   ]
  },
  {
   "cell_type": "markdown",
   "metadata": {},
   "source": [
    "![NumPy.png](img/NumPy.png)"
   ]
  },
  {
   "cell_type": "markdown",
   "metadata": {},
   "source": [
    "## What is a NumPy?\n",
    "\n",
    "NumPy is a Python package which stands for ‘Numerical Python’. It is an extension module for Python, mostly written in C. This makes sure that the precompiled mathematical and numerical functions and functionalities of NumPy guarantee great execution speed.\n",
    "\n",
    "Furthermore, NumPy enriches the programming language Python with powerful data structures, implementing multi-dimensional arrays and matrices. These data structures guarantee efficient calculations with matrices and arrays. The implementation is even aiming at huge matrices and arrays, better known under the heading of \"big data\". Besides that, the module supplies a large library of high-level mathematical functions to operate on these matrices and arrays."
   ]
  },
  {
   "cell_type": "markdown",
   "metadata": {},
   "source": [
    "### Advantages of using NumPy with Python:\n",
    "\n",
    "- array oriented computing\n",
    "- efficiently implemented multi-dimensional arrays\n",
    "- designed for scientific computation\n"
   ]
  },
  {
   "cell_type": "markdown",
   "metadata": {},
   "source": [
    "### How to install Numpy on Python?\n",
    "\n",
    "In most use cases the best way to install NumPy on your system is by using a pre-built package for your operating system. Please see http://scipy.org/install.html or https://solarianprogrammer.com/2017/02/25/install-numpy-scipy-matplotlib-python-3-windows/ for links to available options."
   ]
  },
  {
   "cell_type": "markdown",
   "metadata": {},
   "source": [
    "## Random sampling (numpy.random)\n",
    "\n",
    "Phyton comes with a random module which give us a wide variety of functions for generating random numbers. This is useful if we want to add unpredictability for a game or to run Monte Carlo simulations read here: http://www.palisade.com/risk/monte_carlo_simulation.asp.\n",
    "This module implements pseudo-random number generators for various distributions.For integers, uniform selection from a range. For sequences, uniform selection of a random element, a function to generate a random permutation of a list in-place, and a function for random sampling without replacement."
   ]
  },
  {
   "cell_type": "markdown",
   "metadata": {},
   "source": [
    "##### To import NumPy you need to write the following code:"
   ]
  },
  {
   "cell_type": "code",
   "execution_count": 1,
   "metadata": {},
   "outputs": [],
   "source": [
    "# Import numpy for random package\n",
    "import numpy as np"
   ]
  },
  {
   "cell_type": "markdown",
   "metadata": {},
   "source": [
    "## 1. Simple random data"
   ]
  },
  {
   "cell_type": "markdown",
   "metadata": {},
   "source": [
    "### 1.1 Example: numpy.random rand\n",
    "__Random values in a given shape.__\n",
    "\n",
    "__numpy.random.rand(d0, d1, …, dn)__ : Create an array of the given shape and populate it with random samples from a uniform distribution over [0, 1)."
   ]
  },
  {
   "cell_type": "code",
   "execution_count": 24,
   "metadata": {
    "scrolled": true
   },
   "outputs": [
    {
     "name": "stdout",
     "output_type": "stream",
     "text": [
      "[0.91861091 0.48841119 0.61174386 0.76590786 0.51841799]\n"
     ]
    },
    {
     "data": {
      "image/png": "[encoded data removed]",
      "text/plain": [
       "<Figure size 432x288 with 1 Axes>"
      ]
     },
     "metadata": {
      "needs_background": "light"
     },
     "output_type": "display_data"
    }
   ],
   "source": [
    "# numpy.random.rand() method \n",
    "\n",
    "# Import numpy \n",
    "import numpy as np \n",
    "# Import matplotlib\n",
    "import matplotlib.pyplot as plt\n",
    "\n",
    "# Creates 1D array with five random values.\n",
    "random_num = np.random.rand(5)\n",
    "\n",
    "# Prints 1D array with random values from the standard normal distribution\n",
    "print(random_num)\n",
    "\n",
    "# Creates plot with  five random values\n",
    "plt.plot(random_num, 'r')\n",
    "\n",
    "# Adds title\n",
    "plt.title(\"Example: numpy.random rand\")\n",
    "\n",
    "# Prints plot\n",
    "plt.show()"
   ]
  },
  {
   "cell_type": "code",
   "execution_count": 3,
   "metadata": {},
   "outputs": [
    {
     "name": "stdout",
     "output_type": "stream",
     "text": [
      "[[0.57671779 0.06312376 0.51301236 0.40046385 0.51247699]\n",
      " [0.98839557 0.58440948 0.94884749 0.88043809 0.67473513]\n",
      " [0.21787882 0.3320168  0.51832655 0.64241185 0.95986937]\n",
      " [0.81749505 0.61874944 0.56716115 0.80876938 0.87783811]\n",
      " [0.24711352 0.56532331 0.73562012 0.24338452 0.21260289]\n",
      " [0.20984935 0.64683016 0.08467379 0.30934981 0.29591049]]\n"
     ]
    }
   ],
   "source": [
    "# numpy.random.rand() method \n",
    "\n",
    "# Import numpy \n",
    "import numpy as np\n",
    "\n",
    "# Creates 2D array with thirty random values\n",
    "random_num = np.random.rand(6,5)\n",
    "\n",
    "# Prints 2D array with random values from the standard normal distribution\n",
    "print(random_num)"
   ]
  },
  {
   "cell_type": "markdown",
   "metadata": {},
   "source": [
    "### 1.2 Example: numpy.random randn\n",
    "__Return a sample (or samples) from the “standard normal” distribution.__\n",
    "\n",
    "__numpy.random.randn(d0, d1, …, dn)__ : creates an array of specified shape and fills it with random values as per standard normal distribution.\n",
    "\n",
    "If positive arguments are provided, randn generates an array of shape (d0, d1, …, dn), filled with random floats sampled from a univariate “normal” (Gaussian) distribution of mean 0 and variance 1 (if any of the d_i are floats, they are first converted to integers by truncation). A single float randomly sampled from the distribution is returned if no argument is provided."
   ]
  },
  {
   "cell_type": "code",
   "execution_count": 4,
   "metadata": {},
   "outputs": [
    {
     "name": "stdout",
     "output_type": "stream",
     "text": [
      "[ 1.14109093  0.57922076  0.58819469 -0.87728294]\n"
     ]
    },
    {
     "data": {
      "image/png": "[encoded data removed]",
      "text/plain": [
       "<Figure size 432x288 with 1 Axes>"
      ]
     },
     "metadata": {
      "needs_background": "light"
     },
     "output_type": "display_data"
    }
   ],
   "source": [
    "# numpy.random.randn() method \n",
    "\n",
    "# Import numpy \n",
    "import numpy as np\n",
    "# Import matplotlib\n",
    "import matplotlib.pyplot as plt\n",
    "\n",
    "# Creates 1D Array with four random values\n",
    "random_num = np.random.randn(4)\n",
    "\n",
    "# Prints 1D Array filled with random floating-point samples from the standard normal distribution.\n",
    "print(random_num)\n",
    "\n",
    "# Creates plot with  five random values\n",
    "plt.plot(random_num, 'b--')\n",
    "\n",
    "# Adds title\n",
    "plt.title(\"Example:numpy.random randn\")\n",
    "\n",
    "# Prints plot\n",
    "plt.show()"
   ]
  },
  {
   "cell_type": "code",
   "execution_count": 5,
   "metadata": {},
   "outputs": [
    {
     "name": "stdout",
     "output_type": "stream",
     "text": [
      "[[[-0.55596282  1.22876168 -2.49473469]\n",
      "  [-0.0858127  -0.40373517  1.20781033]\n",
      "  [-1.33596335  0.64713544  1.4599666 ]\n",
      "  [ 0.27888799 -0.65155285  0.18253419]]\n",
      "\n",
      " [[ 0.32772182  1.00925382 -0.8599286 ]\n",
      "  [ 1.18664908 -0.83695637  1.21584671]\n",
      "  [ 0.52594132  0.40310987  0.81765743]\n",
      "  [-3.33615153  0.25508985  0.97870583]]]\n"
     ]
    }
   ],
   "source": [
    "# numpy.random.randn() method \n",
    "\n",
    "# Import numpy \n",
    "import numpy as np\n",
    "\n",
    "# Creates 3D Array with random values\n",
    "random_num = np.random.randn(2,4,3)\n",
    "\n",
    "# Prints 3D Array filled with random floating-point samples from the standard normal distribution.\n",
    "print(random_num)"
   ]
  },
  {
   "cell_type": "markdown",
   "metadata": {},
   "source": [
    "### 1.3 Example: numpy.random randint\n",
    "__Return random integers from low (inclusive) to high (exclusive).__\n",
    "\n",
    "__numpy.random.randint(low, high=None, size=None, dtype='l')__ : creates size-shaped array of random integers from the appropriate distribution, or a single such random int if size not provided.\n",
    "\n"
   ]
  },
  {
   "cell_type": "code",
   "execution_count": 6,
   "metadata": {},
   "outputs": [
    {
     "name": "stdout",
     "output_type": "stream",
     "text": [
      "[ 9 11 18 19 18 11 12 18]\n"
     ]
    }
   ],
   "source": [
    "# numpy.random.randint() method \n",
    "\n",
    "# Import numpy \n",
    "import numpy as np\n",
    "\n",
    "# Creates 1D Array with 8 integers between 9-19\n",
    "rand_int = np.random.randint(9,20,size=8)\n",
    "\n",
    "# Prints size-shaped array of random integers from the appropriate distribution, or a single such random int if size not provided.\n",
    "print(rand_int)"
   ]
  },
  {
   "cell_type": "code",
   "execution_count": 7,
   "metadata": {},
   "outputs": [
    {
     "name": "stdout",
     "output_type": "stream",
     "text": [
      "[[[2 2 1 1 2 4]\n",
      "  [0 2 2 2 1 2]\n",
      "  [3 1 0 3 2 2]\n",
      "  [4 3 2 3 1 2]]\n",
      "\n",
      " [[1 4 1 2 0 3]\n",
      "  [0 4 2 4 2 3]\n",
      "  [1 2 4 1 0 3]\n",
      "  [2 1 1 3 4 2]]\n",
      "\n",
      " [[2 1 0 4 1 0]\n",
      "  [4 1 2 1 0 0]\n",
      "  [4 4 0 3 4 0]\n",
      "  [1 1 0 3 4 0]]]\n"
     ]
    }
   ],
   "source": [
    "# numpy.random.randint() method \n",
    "\n",
    "# Import numpy \n",
    "import numpy as np\n",
    "\n",
    "# Creates 3D Array with 6x4 integers between 0-4\n",
    "rand_int = np.random.randint(0,5,size=(3, 4, 6))\n",
    "\n",
    "# Prints size-shaped array of random integers from the appropriate distribution, or a single such random int if size not provided.\n",
    "print(rand_int)"
   ]
  },
  {
   "cell_type": "markdown",
   "metadata": {},
   "source": [
    "### 1.4 Example numpy.random.choice\n",
    "__Generates a random sample from a given 1-D array__\n",
    "\n",
    "__numpy.random.choice(a, size=None, replace=True, p=None)__ This function is used to generate 1 random number from a container."
   ]
  },
  {
   "cell_type": "code",
   "execution_count": 8,
   "metadata": {},
   "outputs": [
    {
     "name": "stdout",
     "output_type": "stream",
     "text": [
      "6\n"
     ]
    }
   ],
   "source": [
    "# numpy.random.choice() method \n",
    "\n",
    "# Import numpy \n",
    "import numpy as np\n",
    "\n",
    "# Creates list of integers\n",
    "choice_num = np.random.choice([3, 4, 6])\n",
    "\n",
    "# Prints one integer from the list\n",
    "print(choice_num)"
   ]
  },
  {
   "cell_type": "code",
   "execution_count": 9,
   "metadata": {},
   "outputs": [
    {
     "name": "stdout",
     "output_type": "stream",
     "text": [
      "Cat\n"
     ]
    }
   ],
   "source": [
    "# numpy.random.choice() method \n",
    "\n",
    "# Import numpy \n",
    "import numpy as np\n",
    "\n",
    "# Creates list of strings\n",
    "animal_list = np.random.choice([\"Dog\", \"Cat\", \"Duck\"])\n",
    "\n",
    "# Prints one string from the list\n",
    "print(animal_list)"
   ]
  },
  {
   "cell_type": "code",
   "execution_count": 10,
   "metadata": {},
   "outputs": [
    {
     "name": "stdout",
     "output_type": "stream",
     "text": [
      "['dog' 'dog' 'horse' 'dog' 'cat' 'cat' 'horse' 'dog' 'dog' 'cat']\n"
     ]
    }
   ],
   "source": [
    "# numpy.random.choice() method \n",
    "\n",
    "# Import numpy \n",
    "import numpy as np\n",
    "\n",
    "# Creates array of animals\n",
    "animal_arr = ['cat', 'rabbit', 'dog', 'horse']\n",
    "\n",
    "# Creates array which takes list of animals as the first argument. \n",
    "# Second argument defing number of strings. \n",
    "# Third argument specifies the probability of each sting\n",
    "animal_list = np.random.choice(animal_arr,10, p=[0.2, 0, 0.6, 0.2])\n",
    "\n",
    "# Prints list of animals \n",
    "print(animal_list)"
   ]
  },
  {
   "cell_type": "markdown",
   "metadata": {},
   "source": [
    "## 2. Permutations\n",
    "\n",
    "A permutation, alternatively known as an ‘arrangement number’ or ‘ordering’ is an arrangement of the elements of an ordered list into a one-to-one mapping with itself. The permutation of a given arrangement is given by indicating the positions of the elements after re-arrangement. For example, if one started with elements [x, y, a, b] (in that order) and they were reordered as [x, y, b, a] then the permutation would be [0, 1, 3, 2]. "
   ]
  },
  {
   "cell_type": "markdown",
   "metadata": {},
   "source": [
    "### 2.1 Example numpy.random.shuffle\n",
    "__numpy.random.shuffle(x)__ : Modify a sequence in-place by shuffling its contents.\n",
    "\n",
    "Shuffle the sequence x in place. The optional argument random is a 0-argument function returning a random float in [0.0, 1.0); by default, this is the function random().\n",
    "\n",
    "Note that for even rather small len(x), the total number of permutations of x is larger than the period of most random number generators; this implies that most permutations of a long sequence can never be generated."
   ]
  },
  {
   "cell_type": "code",
   "execution_count": 11,
   "metadata": {},
   "outputs": [
    {
     "name": "stdout",
     "output_type": "stream",
     "text": [
      "[3 2 0 4 1]\n"
     ]
    }
   ],
   "source": [
    "# numpy.random.shuffle() method \n",
    "\n",
    "# Import numpy \n",
    "import numpy as np\n",
    "\n",
    "# Creates 1D array with inegers between 0-4\n",
    "arr = np.arange(5)\n",
    "\n",
    "# This function shuffles the array\n",
    "np.random.shuffle(arr)\n",
    "\n",
    "# Prints shuffled array\n",
    "print(arr)"
   ]
  },
  {
   "cell_type": "code",
   "execution_count": 12,
   "metadata": {},
   "outputs": [
    {
     "name": "stdout",
     "output_type": "stream",
     "text": [
      "[[ 8  9 10 11]\n",
      " [12 13 14 15]\n",
      " [16 17 18 19]\n",
      " [ 4  5  6  7]\n",
      " [ 0  1  2  3]]\n"
     ]
    }
   ],
   "source": [
    "# numpy.random.shuffle() method \n",
    "\n",
    "# Import numpy \n",
    "import numpy as np\n",
    "\n",
    "# Creates 2D array with integers between 0-19 , only shuffled along the first axis\n",
    "arr = np.arange(20).reshape((5, 4))\n",
    "\n",
    "# This function shuffles the array\n",
    "np.random.shuffle(arr)\n",
    "\n",
    "# Prints shuffled array\n",
    "print(arr)"
   ]
  },
  {
   "cell_type": "markdown",
   "metadata": {},
   "source": [
    "__numpy.random.shuffle(x[, random])__ : shuffle method takes two parameters. out of the two random is an optional parameter.\n",
    "\n",
    "Shuffle method used to shuffle the sequence in place. i.e it changes the position of items in a list. we call it as a randomizes the items of a list in place.For example, Shuffling a pack of cards, shuffling list of a string"
   ]
  },
  {
   "cell_type": "code",
   "execution_count": 13,
   "metadata": {},
   "outputs": [
    {
     "name": "stdout",
     "output_type": "stream",
     "text": [
      "Original list :  [7, 14, 21, 28, 35, 42, 49, 56, 63, 70]\n",
      "List after first shuffle  :  [28, 35, 14, 7, 49, 21, 63, 56, 70, 42]\n",
      "List after second shuffle :  [21, 70, 28, 49, 56, 35, 14, 63, 7, 42]\n"
     ]
    }
   ],
   "source": [
    "# numpy.random.shuffle() method\n",
    "\n",
    "# Import numpy \n",
    "import numpy as np\n",
    "\n",
    "# Creates list on integers\n",
    "number_list = [7, 14, 21, 28, 35, 42, 49, 56, 63, 70]\n",
    "\n",
    "# Prints list \n",
    "print (\"Original list : \",  number_list)\n",
    "\n",
    "# Shuffle method which takes number_list\n",
    "np.random.shuffle(number_list) \n",
    "\n",
    "# Prints shuffled list\n",
    "print (\"List after first shuffle  : \",  number_list)\n",
    "\n",
    "# Shuffle method which takes number_list\n",
    "np.random.shuffle(number_list)\n",
    "\n",
    "# Prints shuffled list\n",
    "print (\"List after second shuffle : \",  number_list)"
   ]
  },
  {
   "cell_type": "markdown",
   "metadata": {},
   "source": [
    "### 2.2 Exmaple numpy.random.permutation\n",
    "__numpy.random.permutation(x)__: Randomly permute a sequence, or return a permuted range.\n",
    "If x is a multi-dimensional array, it is only shuffled along its first index."
   ]
  },
  {
   "cell_type": "code",
   "execution_count": 14,
   "metadata": {},
   "outputs": [
    {
     "name": "stdout",
     "output_type": "stream",
     "text": [
      "[2 4 1 3 0]\n"
     ]
    }
   ],
   "source": [
    "# numpy.random.permutation() method\n",
    "\n",
    "# Import numpy \n",
    "import numpy as np\n",
    "\n",
    "# If x is an integer, randomly permute np.arange(x). If x is an array, make a copy and shuffle the elements randomly.\n",
    "# numpy.random.permutation(x)\n",
    "# Creates range of integeres between 0-4\n",
    "num = np.random.permutation(5)\n",
    "\n",
    "# Returns permuted sequence \n",
    "print(num)"
   ]
  },
  {
   "cell_type": "code",
   "execution_count": 15,
   "metadata": {},
   "outputs": [
    {
     "name": "stdout",
     "output_type": "stream",
     "text": [
      "[21  5 20  7 30]\n"
     ]
    }
   ],
   "source": [
    "# numpy.random.permutation() method\n",
    "\n",
    "# Import numpy \n",
    "import numpy as np\n",
    "\n",
    "# If x is an integer, randomly permute np.arange(x). If x is an array, make a copy and shuffle the elements randomly.\n",
    "# numpy.random.permutation(x)\n",
    "# Creates array with given integers\n",
    "num = np.random.permutation([5, 7, 20, 21, 30])\n",
    "\n",
    "# Returns permuted sequence\n",
    "print(num)"
   ]
  },
  {
   "cell_type": "code",
   "execution_count": 16,
   "metadata": {},
   "outputs": [
    {
     "name": "stdout",
     "output_type": "stream",
     "text": [
      "[[[16 17]\n",
      "  [18 19]\n",
      "  [20 21]\n",
      "  [22 23]]\n",
      "\n",
      " [[ 8  9]\n",
      "  [10 11]\n",
      "  [12 13]\n",
      "  [14 15]]\n",
      "\n",
      " [[ 0  1]\n",
      "  [ 2  3]\n",
      "  [ 4  5]\n",
      "  [ 6  7]]]\n"
     ]
    }
   ],
   "source": [
    "# numpy.random.permutation() method\n",
    "\n",
    "# Import numpy \n",
    "import numpy as np\n",
    "\n",
    "# If x is an integer, randomly permute np.arange(x). If x is an array, make a copy and shuffle the elements randomly.\n",
    "# numpy.random.permutation(x)\n",
    "# Creates 3D array with integers that are between 0-23\n",
    "arr = np.arange(24).reshape((3, 4, 2))\n",
    "\n",
    "# Creates array range\n",
    "num = np.random.permutation(arr)\n",
    "\n",
    "# Prints array range\n",
    "print(num)"
   ]
  },
  {
   "cell_type": "markdown",
   "metadata": {},
   "source": [
    "#### Shuffle vs Permutation"
   ]
  },
  {
   "cell_type": "code",
   "execution_count": 17,
   "metadata": {},
   "outputs": [
    {
     "name": "stdout",
     "output_type": "stream",
     "text": [
      "[2 0 3 4 1]\n",
      "Same result using permutation():\n",
      "[2 4 1 0 3]\n"
     ]
    }
   ],
   "source": [
    "# numpy.random.shuffle() method vs # numpy.random.permutation() method\n",
    "\n",
    "# Import numpy \n",
    "import numpy as np\n",
    "\n",
    "# Creates range of integers between 0-4\n",
    "x = np.arange(5)\n",
    "\n",
    "# Shuffle method used to shuffle the sequence in place\n",
    "np.random.shuffle(x)\n",
    "\n",
    "# Prints shuffled array of numbers\n",
    "print(x)\n",
    "\n",
    "# Prints title\n",
    "print(\"Same result using permutation():\")\n",
    "\n",
    "# Prints randomly permuted array\n",
    "print(np.random.permutation(5))"
   ]
  },
  {
   "cell_type": "markdown",
   "metadata": {},
   "source": [
    "## 3. Distributions\n",
    "The distribution of a statistical data set (or a population) is a listing or function showing all the possible values (or intervals) of the data and how often they occur. When a distribution of categorical data is organized, you see the number or percentage of individuals in each group. When a distribution of numerical data is organized, they’re often ordered from smallest to largest, broken into reasonably sized groups (if appropriate), and then put into graphs and charts to examine the shape, center, and amount of variability in the data.The world of statistics includes dozens of different distributions for categorical and numerical data; the most common ones have their own names. "
   ]
  },
  {
   "cell_type": "markdown",
   "metadata": {},
   "source": [
    "### 3.1 Examle numpy.random.normal\n",
    "__numpy.random.normal(loc=0.0, scale=1.0, size=None)__\n",
    "A normal distribution in statistics is distribution that is shaped like a bell curve.\n",
    "With a normal distribution plot, the plot will be centered on the mean value.\n",
    "In a normal distribution, 68% of the data set will lie within ±1 standard deviation of the mean. 95% of the data set will lie within ±2 standard deviations of the mean. And 99.7% of the data set will lie within ±3 standard deviations of the mean."
   ]
  },
  {
   "cell_type": "code",
   "execution_count": 18,
   "metadata": {},
   "outputs": [
    {
     "data": {
      "image/png": "[encoded data removed]",
      "text/plain": [
       "<Figure size 432x288 with 1 Axes>"
      ]
     },
     "metadata": {
      "needs_background": "light"
     },
     "output_type": "display_data"
    }
   ],
   "source": [
    "# numpy.random.normal() method\n",
    "\n",
    "# Import numpy\n",
    "import numpy as np \n",
    "# Import matplotlib\n",
    "import matplotlib.pyplot as plt\n",
    "\n",
    "# Creates the data for a normal distribution plot centered around a mean of 50, showing 2 standard deviations of the data, and creates 10,000 random data points that are of normal distribution.\n",
    "gaussian_numbers = np.random.normal(50,2, 10000)\n",
    "\n",
    "# Generates histogram\n",
    "plt.hist(gaussian_numbers)\n",
    "\n",
    "# Adds title\n",
    "plt.title(\"Gaussian Histogram\")\n",
    "\n",
    "# Creates lable \n",
    "plt.xlabel(\"Value\")\n",
    "\n",
    "# Creates lable \n",
    "plt.ylabel(\"Frequency\")\n",
    "\n",
    "# Shows plot\n",
    "plt.show()"
   ]
  },
  {
   "cell_type": "markdown",
   "metadata": {},
   "source": [
    "### 3.2 Example numpy.random.binomial\n",
    "__numpy.random.binomial(n, p, size=None)__\n",
    "The binomial distribution is a discrete probability distribution that models the outcomes of a given number of random trails of some experiment or event. The binomial is defined by two parameters: the probability of success in any given trial and the number of trials. __The binomial distribution tells you how likely it is to achieve a given number of successes in n trials of the experiment.__\n",
    "\n",
    "Examples\n",
    "Number of heads after tossing a coin number of times. Number of defective bulbs after inspecting number of bulbs."
   ]
  },
  {
   "cell_type": "code",
   "execution_count": 19,
   "metadata": {
    "scrolled": true
   },
   "outputs": [
    {
     "data": {
      "image/png": "[encoded data removed]",
      "text/plain": [
       "<Figure size 432x288 with 1 Axes>"
      ]
     },
     "metadata": {
      "needs_background": "light"
     },
     "output_type": "display_data"
    }
   ],
   "source": [
    "# numpy.random.binomial() method\n",
    "\n",
    "import numpy as np \n",
    "# Import matplotlib\n",
    "import matplotlib.pyplot as plt\n",
    "\n",
    "# Binomial distribution which takes three parameters\n",
    "# n - number of trials ,p - probability of success(interval [0,1]), size - number of times to repeat experiment\n",
    "binomial = np.random.binomial(n=20, p=0.8, size = 10)\n",
    "binomial_2 = np.random.binomial(n=20, p=0.6, size = 10)\n",
    "\n",
    "# Creates a histogram \n",
    "plt.hist(binomial,bins = 20, density=True, color='green',label = \"n = 20, p =0.8\")\n",
    "plt.hist(binomial_2,bins = 20, density=True, color='red',label = \"n = 20, p =0.6\")\n",
    "\n",
    "# Adds title\n",
    "plt.title(\"Binomial distribution\")\n",
    "\n",
    "# Adds legend\n",
    "plt.legend()\n",
    "          \n",
    "# Creates lable \n",
    "plt.xlabel(\"Number of experiments\")\n",
    "          \n",
    "# Creates lable \n",
    "plt.ylabel(\"Frequency\")\n",
    "\n",
    "# Prints a plot\n",
    "plt.show()"
   ]
  },
  {
   "cell_type": "markdown",
   "metadata": {},
   "source": [
    "### 3.3 Example numpy.random.poisson\n",
    "__numpy.random.poisson(lam=1.0, size=None)__ The Poisson distribution measures the likelihood of a number of events occurring within a given time interval, where the key parameter that is required is the average number of events in the given interval (λ). The resulting distribution looks similar to the binomial, with the skewness being positive but decreasing with λ.\n",
    "\n",
    "Number of cars crossing a traffic signal in 30 minutes. Number of phone calls at a service desk in 5 minutes. Number of patients coming into a hospital every hour."
   ]
  },
  {
   "cell_type": "code",
   "execution_count": 20,
   "metadata": {},
   "outputs": [
    {
     "data": {
      "image/png": "[encoded data removed]",
      "text/plain": [
       "<Figure size 432x288 with 1 Axes>"
      ]
     },
     "metadata": {
      "needs_background": "light"
     },
     "output_type": "display_data"
    }
   ],
   "source": [
    "# numpy.random.poisson() method\n",
    "\n",
    "# Import numpy\n",
    "import numpy as np \n",
    "# Import matplotlib\n",
    "import matplotlib.pyplot as plt\n",
    "\n",
    "# Poisson distribution which takes two parameters\n",
    "# lam - number of events occurring in a given time interval, size - number of events\n",
    "poisson = np.random.poisson(8,10000)\n",
    "poisson_2 = np.random.poisson(5,10000)\n",
    "\n",
    "\n",
    "# Creates a histogram\n",
    "count, bins, ignored = plt.hist(poisson, 11, density=True, label = \"λ = 8\", color = 'blue', alpha=0.5)\n",
    "count, bins, ignored = plt.hist(poisson_2, 11, density=True, label = \"λ = 5\", color = 'red', alpha=0.5)\n",
    "\n",
    "# Adds title\n",
    "plt.title(\"Poisson distribution\")\n",
    "\n",
    "# Creates lable \n",
    "plt.xlabel(\"Number of experiments\")\n",
    "          \n",
    "# Creates lable \n",
    "plt.ylabel(\"Frequency\")\n",
    "# Adds legend\n",
    "\n",
    "plt.legend()\n",
    "# Prints a plot\n",
    "plt.show()\n"
   ]
  },
  {
   "cell_type": "markdown",
   "metadata": {},
   "source": [
    " ### 3.4 Example numpy.random.triangular\n",
    " __numpy.random.triangular(left, mode, right, size=None)__ The triangular distribution is a continuous probability distribution with lower limit left, peak at mode, and upper limit right. Unlike the other distributions, these parameters directly define the shape of the pdf.The triangular distribution is often used in ill-defined problems where the underlying distribution is not known, but some knowledge of the limits and mode exists. Often it is used in simulations."
   ]
  },
  {
   "cell_type": "code",
   "execution_count": 21,
   "metadata": {},
   "outputs": [
    {
     "data": {
      "image/png": "[encoded data removed]",
      "text/plain": [
       "<Figure size 432x288 with 1 Axes>"
      ]
     },
     "metadata": {
      "needs_background": "light"
     },
     "output_type": "display_data"
    }
   ],
   "source": [
    "# numpy.random.triangular() method\n",
    "\n",
    "# Import numpy\n",
    "import numpy as np \n",
    "# Import matplotlib\n",
    "import matplotlib.pyplot as plt\n",
    "\n",
    "# Triangular method which takes three parameters\n",
    "#  numpy.random.triangular(left, mode, right, size=None)\n",
    "# left - lower limit\n",
    "# mode - The value where the peak of the distribution occurs. The value should fulfill the condition left <= mode <= right.\n",
    "# right - Upper limit, should be larger than left\n",
    "# size - output shape\n",
    "triangular_dist = np.random.triangular(-10,2, 4, 10000)\n",
    "\n",
    "# Creates a histogram\n",
    "count, bins, ignored = plt.hist(triangular_dist, 200, density=True, color = 'orange')\n",
    "\n",
    "# Adds title\n",
    "plt.title(\"Triangular distribution\")\n",
    "\n",
    "# Creates lable \n",
    "plt.xlabel(\"Number of experiments\")\n",
    "          \n",
    "# Creates lable \n",
    "plt.ylabel(\"Frequency\")\n",
    "\n",
    "# Prints a plot\n",
    "plt.show()\n"
   ]
  },
  {
   "cell_type": "markdown",
   "metadata": {},
   "source": [
    "## 4. Random generator\n",
    "A random number generator is a system that generates random numbers from a true source of randomness. Often something physical, such as a Geiger counter, where the results are turned into random numbers. The pseudorandom number generator can be seeded by calling the random.seed() function. Random floating point values between 0 and 1 can be generated by calling the random.random() function.\n",
    "\n",
    "NumPy also implements the Mersenne Twister pseudorandom number generator. Importantly, seeding the Python pseudorandom number generator does not impact the NumPy pseudorandom number generator. It must be seeded and used separately."
   ]
  },
  {
   "cell_type": "markdown",
   "metadata": {},
   "source": [
    " ### 4.1 Example numpy.random.RandomState\n",
    " __class numpy.random.RandomState(seed=None)__ RandomState is a class in NumPy. We use aninstance of this class to manage random\n",
    "number generation.Random numbers are generated by methods in the class (e.g. the rand or randn methods). Each instance of RandomState comes with its own specific random number stream. The random number stream is initialized (“seeded”)\n",
    "when we create a RandomState instance.We can also reset the “seed” using the seed() method."
   ]
  },
  {
   "cell_type": "code",
   "execution_count": 22,
   "metadata": {},
   "outputs": [
    {
     "name": "stdout",
     "output_type": "stream",
     "text": [
      "Generate array of 5 random numbers - uniform dist.\n",
      "[0.14091867 0.15573581 0.36500908 0.12384937 0.09488438]\n",
      "Check two streams with same seed - normal dist.\n",
      "First:  [-0.20470766  0.47894334 -0.51943872 -0.5557303   1.96578057]\n",
      "Second:  [-0.20470766  0.47894334 -0.51943872 -0.5557303   1.96578057]\n"
     ]
    }
   ],
   "source": [
    "# Import numpy\n",
    "import numpy as np\n",
    "from numpy.random import RandomState\n",
    "\n",
    "# An instance of the RandomState class\n",
    "# Used to make a stream of random numbers\n",
    "t = np.random.RandomState()\n",
    "print('Generate array of 5 random numbers - uniform dist.')\n",
    "print(t.rand(5))\n",
    "# If we seed the RandomState with an integer\n",
    "# We always get the same stream\n",
    "t2 = RandomState(12345) # a random stream\n",
    "t3 = RandomState(12345) # another one - same seed\n",
    "\n",
    "# These give the same results!!\n",
    "print ('Check two streams with same seed - normal dist.')\n",
    "print ('First: ',t2.randn(5))\n",
    "print ('Second: ',t3.randn(5))"
   ]
  },
  {
   "cell_type": "markdown",
   "metadata": {},
   "source": [
    "### Example numpy.random.seed\n",
    "__numpy.random.seed(seed=None)__ Python random number generation is based on the previous number, so using system time is a great way to ensure that every time our program runs, it generates different numbers. We can use python random seed() function to set the initial value. Note that if our seed value doesn’t change in each execution, we will get same sequence of numbers. \n",
    "\n",
    "__This function maps a particular random number with the seed argument__. All random numbers called after the seeded value returns the mapped number."
   ]
  },
  {
   "cell_type": "code",
   "execution_count": 23,
   "metadata": {},
   "outputs": [
    {
     "name": "stdout",
     "output_type": "stream",
     "text": [
      "1st random number :  0.22199317108973948\n",
      "2nd random number :  0.8707323061773764\n",
      "1st random int :  10\n",
      "2nd random int :  11\n",
      "3rd random number :  0.22199317108973948\n",
      "4th random number :  0.8707323061773764\n",
      "3rd random int :  10\n",
      "4th random int :  11\n"
     ]
    }
   ],
   "source": [
    "# numpy.random.seed() method\n",
    "\n",
    "#Import numpy\n",
    "import numpy as np\n",
    "\n",
    "# Sets the seed\n",
    "np.random.seed(5)\n",
    "\n",
    "# Generates and prints random numbers\n",
    "print('1st random number : ', np.random.random())\n",
    "print('2nd random number : ', np.random.random())\n",
    "\n",
    "# Generates and prints random integer\n",
    "print('1st random int : ', np.random.randint(4, 30))\n",
    "print('2nd random int : ', np.random.randint(5, 20))\n",
    "\n",
    "# Resets the seed to 5 i.e. first value\n",
    "np.random.seed(5)\n",
    "\n",
    "# Generates and prints random numbers\n",
    "print('3rd random number : ', np.random.random())\n",
    "print('4th random number : ', np.random.random())\n",
    "\n",
    "# Generates and prints random integer\n",
    "print('3rd random int : ', np.random.randint(4, 30))\n",
    "print('4th random int : ', np.random.randint(5, 20))\n"
   ]
  },
  {
   "cell_type": "markdown",
   "metadata": {},
   "source": [
    "### References:\n",
    "https://www.geeksforgeeks.org/python-numpy/\n",
    "\n",
    "https://pynative.com/python-random-module/\n",
    "\n",
    "https://docs.scipy.org/doc/numpy-1.15.1/reference/routines.random.html#simple-random-data\n",
    "\n",
    "https://docs.python.org/2/library/random.html\n",
    "\n",
    "https://towardsdatascience.com/a-quick-introduction-to-the-numpy-library-6f61b7dee4db\n",
    "\n",
    "https://www.dataquest.io/blog/numpy-tutorial-python/\n",
    "\n",
    "https://www.edureka.co/blog/python-numpy-tutorial/?utm_source=quora&utm_medium=crossposting&utm_campaign=social-media-sep-aj\n",
    "\n",
    "https://machinelearningmastery.com/statistical-data-distributions/\n",
    "\n",
    "https://www.vaishalilambe.com/blog/statistics-distribution\n",
    "\n",
    "https://matplotlib.org/api/_as_gen/matplotlib.pyplot.plot.html\n",
    "\n",
    "https://bigdata-madesimple.com/how-to-implement-these-5-powerful-probability-distributions-in-python/\n",
    "\n",
    "https://www.tutorialspoint.com/python/python_binomial_distribution.htm\n",
    "\n",
    "https://machinelearningmastery.com/introduction-to-random-number-generators-for-machine-learning/\n",
    "\n",
    "https://www.astro.umass.edu/~schloerb/ph281/Lectures/RandomNumbers/RandomNumbers.pdf"
   ]
  }
 ],
 "metadata": {
  "kernelspec": {
   "display_name": "Python 3",
   "language": "python",
   "name": "python3"
  },
  "language_info": {
   "codemirror_mode": {
    "name": "ipython",
    "version": 3
   },
   "file_extension": ".py",
   "mimetype": "text/x-python",
   "name": "python",
   "nbconvert_exporter": "python",
   "pygments_lexer": "ipython3",
   "version": "3.6.7"
  }
 },
 "nbformat": 4,
 "nbformat_minor": 2
}
