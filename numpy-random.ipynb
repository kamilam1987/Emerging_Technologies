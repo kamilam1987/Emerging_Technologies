{
 "cells": [
  {
   "cell_type": "markdown",
   "metadata": {},
   "source": [
    "# The numpy.random package"
   ]
  },
  {
   "cell_type": "markdown",
   "metadata": {},
   "source": [
    "![NumPy.png](img/NumPy.png)"
   ]
  },
  {
   "cell_type": "markdown",
   "metadata": {},
   "source": [
    "## What is a NumPy?\n",
    "\n",
    "NumPy is a Python package which stands for ‘Numerical Python’. It is an extension module for Python, mostly written in C. This makes sure that the precompiled mathematical and numerical functions and functionalities of NumPy guarantee great execution speed.\n",
    "\n",
    "Furthermore, NumPy enriches the programming language Python with powerful data structures, implementing multi-dimensional arrays and matrices. These data structures guarantee efficient calculations with matrices and arrays. The implementation is even aiming at huge matrices and arrays, better known under the heading of \"big data\". Besides that, the module supplies a large library of high-level mathematical functions to operate on these matrices and arrays."
   ]
  },
  {
   "cell_type": "markdown",
   "metadata": {},
   "source": [
    "### Advantages of using NumPy with Python:\n",
    "\n",
    "- array oriented computing\n",
    "- efficiently implemented multi-dimensional arrays\n",
    "- designed for scientific computation\n"
   ]
  },
  {
   "cell_type": "markdown",
   "metadata": {},
   "source": [
    "### How to install Numpy on Python?\n",
    "\n",
    "In most use cases the best way to install NumPy on your system is by using a pre-built package for your operating system. Please see http://scipy.org/install.html or https://solarianprogrammer.com/2017/02/25/install-numpy-scipy-matplotlib-python-3-windows/ for links to available options."
   ]
  },
  {
   "cell_type": "markdown",
   "metadata": {},
   "source": [
    "## Random sampling (numpy.random)\n",
    "\n",
    "Phyton comes with a random module which give us a wide variety of functions for generating random numbers. This is useful if we want to add unpredictability for a game or to run Monte Carlo simulations read here: http://www.palisade.com/risk/monte_carlo_simulation.asp.\n",
    "This module implements pseudo-random number generators for various distributions.For integers, uniform selection from a range. For sequences, uniform selection of a random element, a function to generate a random permutation of a list in-place, and a function for random sampling without replacement."
   ]
  },
  {
   "cell_type": "markdown",
   "metadata": {},
   "source": [
    "##### To import NumPy you need to write the following code:"
   ]
  },
  {
   "cell_type": "code",
   "execution_count": 1,
   "metadata": {},
   "outputs": [],
   "source": [
    "# Import numpy for random package\n",
    "import numpy as np"
   ]
  },
  {
   "cell_type": "markdown",
   "metadata": {},
   "source": [
    "## 1. Simple random data"
   ]
  },
  {
   "cell_type": "markdown",
   "metadata": {},
   "source": [
    "### 1.1 Example: numpy.random rand\n",
    "__Random values in a given shape.__\n",
    "\n",
    "__numpy.random.rand(d0, d1, …, dn)__ : Create an array of the given shape and populate it with random samples from a uniform distribution over [0, 1)."
   ]
  },
  {
   "cell_type": "code",
   "execution_count": 2,
   "metadata": {
    "scrolled": true
   },
   "outputs": [
    {
     "data": {
      "text/plain": [
       "array([0.77717963, 0.07592045, 0.64765732, 0.41269104, 0.7650873 ])"
      ]
     },
     "execution_count": 2,
     "metadata": {},
     "output_type": "execute_result"
    }
   ],
   "source": [
    "# numpy.random.rand() method \n",
    "\n",
    "# Import numpy \n",
    "import numpy as np\n",
    "\n",
    "# Creates 1D array with five random values.\n",
    "np.random.rand(5)"
   ]
  },
  {
   "cell_type": "code",
   "execution_count": 3,
   "metadata": {},
   "outputs": [
    {
     "data": {
      "text/plain": [
       "array([[0.09685481, 0.3200197 , 0.69371668, 0.29976886, 0.51391725],\n",
       "       [0.40762584, 0.54431195, 0.38191904, 0.80300163, 0.83259612],\n",
       "       [0.47610518, 0.1156465 , 0.9709434 , 0.35374113, 0.41344469],\n",
       "       [0.7824766 , 0.62204095, 0.36063662, 0.62031668, 0.00497332],\n",
       "       [0.49192335, 0.59113241, 0.8382045 , 0.68153632, 0.00851258],\n",
       "       [0.12805484, 0.23987902, 0.89190029, 0.51644426, 0.18815689]])"
      ]
     },
     "execution_count": 3,
     "metadata": {},
     "output_type": "execute_result"
    }
   ],
   "source": [
    "# numpy.random.rand() method \n",
    "\n",
    "# Import numpy \n",
    "import numpy as np\n",
    "\n",
    "# Creates 2D array with thirty random values\n",
    "np.random.rand(6,5)"
   ]
  },
  {
   "cell_type": "markdown",
   "metadata": {},
   "source": [
    "### 1.2 Example: numpy.random randn\n",
    "__Return a sample (or samples) from the “standard normal” distribution.__\n",
    "\n",
    "__numpy.random.randn(d0, d1, …, dn)__ : creates an array of specified shape and fills it with random values as per standard normal distribution.\n",
    "\n",
    "If positive arguments are provided, randn generates an array of shape (d0, d1, …, dn), filled with random floats sampled from a univariate “normal” (Gaussian) distribution of mean 0 and variance 1 (if any of the d_i are floats, they are first converted to integers by truncation). A single float randomly sampled from the distribution is returned if no argument is provided."
   ]
  },
  {
   "cell_type": "code",
   "execution_count": 4,
   "metadata": {},
   "outputs": [
    {
     "data": {
      "text/plain": [
       "array([-1.13439288, -0.31620817,  0.32534877,  0.94484868])"
      ]
     },
     "execution_count": 4,
     "metadata": {},
     "output_type": "execute_result"
    }
   ],
   "source": [
    "# numpy.random.randn() method \n",
    "\n",
    "# Import numpy \n",
    "import numpy as np\n",
    "\n",
    "# Creates 1D Array with four random values\n",
    "np.random.randn(4)\n",
    "\n",
    "# Returns 1D Array filled with random floating-point samples from the standard normal distribution."
   ]
  },
  {
   "cell_type": "code",
   "execution_count": 5,
   "metadata": {},
   "outputs": [
    {
     "data": {
      "text/plain": [
       "array([[[ 0.94934063, -1.10444516, -0.60218304],\n",
       "        [-0.46168668, -0.67419562, -0.62778819],\n",
       "        [ 2.24316324,  0.10381158,  0.0908062 ],\n",
       "        [ 1.195238  , -0.25563228, -0.04511747]],\n",
       "\n",
       "       [[-0.37270231,  0.62261043, -0.00755647],\n",
       "        [ 0.75787016, -0.6634521 ,  1.11189577],\n",
       "        [ 0.22987464, -0.85801775, -0.99761056],\n",
       "        [-0.96349239, -0.04172061,  0.4741583 ]]])"
      ]
     },
     "execution_count": 5,
     "metadata": {},
     "output_type": "execute_result"
    }
   ],
   "source": [
    "# numpy.random.randn() method \n",
    "\n",
    "# Import numpy \n",
    "import numpy as np\n",
    "\n",
    "# Creates 3D Array with random values\n",
    "np.random.randn(2,4,3)\n",
    "# Returns 3D Array filled with random floating-point samples from the standard normal distribution."
   ]
  },
  {
   "cell_type": "markdown",
   "metadata": {},
   "source": [
    "### 1.3 Example: numpy.random randint\n",
    "__Return random integers from low (inclusive) to high (exclusive).__\n",
    "\n",
    "__numpy.random.randint(low, high=None, size=None, dtype='l')__ : creates size-shaped array of random integers from the appropriate distribution, or a single such random int if size not provided.\n",
    "\n"
   ]
  },
  {
   "cell_type": "code",
   "execution_count": 6,
   "metadata": {},
   "outputs": [
    {
     "data": {
      "text/plain": [
       "array([18,  9, 19, 14, 18, 13, 19, 13])"
      ]
     },
     "execution_count": 6,
     "metadata": {},
     "output_type": "execute_result"
    }
   ],
   "source": [
    "# numpy.random.randint() method \n",
    "\n",
    "# Import numpy \n",
    "import numpy as np\n",
    "\n",
    "# Creates 1D Array with 8 integers between 9-19\n",
    "np.random.randint(9,20,size=8)\n",
    "\n",
    "# Returns size-shaped array of random integers from the appropriate distribution, or a single such random int if size not provided."
   ]
  },
  {
   "cell_type": "code",
   "execution_count": 7,
   "metadata": {},
   "outputs": [
    {
     "data": {
      "text/plain": [
       "array([[[4, 4, 0, 0, 3, 1],\n",
       "        [1, 1, 3, 2, 1, 4],\n",
       "        [4, 0, 3, 1, 4, 1],\n",
       "        [0, 0, 2, 3, 1, 4]],\n",
       "\n",
       "       [[2, 1, 0, 4, 3, 4],\n",
       "        [1, 1, 3, 0, 2, 2],\n",
       "        [2, 2, 0, 1, 2, 2],\n",
       "        [1, 3, 4, 4, 0, 3]],\n",
       "\n",
       "       [[2, 3, 0, 0, 1, 3],\n",
       "        [2, 1, 0, 0, 2, 4],\n",
       "        [3, 4, 2, 2, 0, 2],\n",
       "        [1, 1, 3, 3, 3, 4]]])"
      ]
     },
     "execution_count": 7,
     "metadata": {},
     "output_type": "execute_result"
    }
   ],
   "source": [
    "# numpy.random.randint() method \n",
    "\n",
    "# Import numpy \n",
    "import numpy as np\n",
    "\n",
    "# Creates 3D Array with 6x4 integers between 0-4\n",
    "np.random.randint(0,5,size=(3, 4, 6))\n",
    "\n",
    "# Returns size-shaped array of random integers from the appropriate distribution, or a single such random int if size not provided."
   ]
  },
  {
   "cell_type": "markdown",
   "metadata": {},
   "source": [
    "### 1.4 Example numpy.random.choice\n",
    "__Generates a random sample from a given 1-D array__\n",
    "\n",
    "__numpy.random.choice(a, size=None, replace=True, p=None)__"
   ]
  },
  {
   "cell_type": "code",
   "execution_count": 8,
   "metadata": {},
   "outputs": [
    {
     "data": {
      "text/plain": [
       "4"
      ]
     },
     "execution_count": 8,
     "metadata": {},
     "output_type": "execute_result"
    }
   ],
   "source": [
    "# numpy.random.choice() method \n",
    "\n",
    "# Import numpy \n",
    "import numpy as np\n",
    "\n",
    "# Creates list of integers\n",
    "np.random.choice([3, 4, 6])\n",
    "\n",
    "# Returns one integer from the list"
   ]
  },
  {
   "cell_type": "code",
   "execution_count": 9,
   "metadata": {},
   "outputs": [
    {
     "data": {
      "text/plain": [
       "'Duck'"
      ]
     },
     "execution_count": 9,
     "metadata": {},
     "output_type": "execute_result"
    }
   ],
   "source": [
    "# numpy.random.choice() method \n",
    "\n",
    "# Import numpy \n",
    "import numpy as np\n",
    "\n",
    "# Creates list of strings\n",
    "np.random.choice([\"Dog\", \"Cat\", \"Duck\"])\n",
    "\n",
    "# Returns one string from the list"
   ]
  },
  {
   "cell_type": "code",
   "execution_count": 10,
   "metadata": {},
   "outputs": [
    {
     "data": {
      "text/plain": [
       "array(['dog', 'dog', 'dog', 'dog', 'dog', 'dog', 'dog', 'cat', 'cat',\n",
       "       'dog'], dtype='<U6')"
      ]
     },
     "execution_count": 10,
     "metadata": {},
     "output_type": "execute_result"
    }
   ],
   "source": [
    "# numpy.random.choice() method \n",
    "\n",
    "# Import numpy \n",
    "import numpy as np\n",
    "\n",
    "# Creates array of animals\n",
    "animal_arr = ['cat', 'rabbit', 'dog', 'horse']\n",
    "\n",
    "# Creates array which takes list of animals as the first argument. \n",
    "# Second argument defing number of strings. \n",
    "# Third argument specifies the probability of each sting\n",
    "\n",
    "np.random.choice(animal_arr,10, p=[0.2, 0, 0.6, 0.2])"
   ]
  },
  {
   "cell_type": "markdown",
   "metadata": {},
   "source": [
    "## 2. Permutations\n",
    "\n",
    "A permutation, alternatively known as an ‘arrangement number’ or ‘ordering’ is an arrangement of the elements of an ordered list into a one-to-one mapping with itself. The permutation of a given arrangement is given by indicating the positions of the elements after re-arrangement. For example, if one started with elements [x, y, a, b] (in that order) and they were reordered as [x, y, b, a] then the permutation would be [0, 1, 3, 2]. "
   ]
  },
  {
   "cell_type": "markdown",
   "metadata": {},
   "source": [
    "### 2.1 Example numpy.random.shuffle\n",
    "__numpy.random.shuffle(x)__ : Modify a sequence in-place by shuffling its contents.\n",
    "\n",
    "Shuffle the sequence x in place. The optional argument random is a 0-argument function returning a random float in [0.0, 1.0); by default, this is the function random().\n",
    "\n",
    "Note that for even rather small len(x), the total number of permutations of x is larger than the period of most random number generators; this implies that most permutations of a long sequence can never be generated."
   ]
  },
  {
   "cell_type": "code",
   "execution_count": 11,
   "metadata": {},
   "outputs": [
    {
     "data": {
      "text/plain": [
       "array([1, 0, 4, 2, 3])"
      ]
     },
     "execution_count": 11,
     "metadata": {},
     "output_type": "execute_result"
    }
   ],
   "source": [
    "# numpy.random.shuffle() method \n",
    "\n",
    "# Import numpy \n",
    "import numpy as np\n",
    "\n",
    "# Creates 1D array with inegers between 0-4\n",
    "arr = np.arange(5)\n",
    "# This function shuffles the array\n",
    "np.random.shuffle(arr)\n",
    "# Prints shuffled array\n",
    "arr"
   ]
  },
  {
   "cell_type": "code",
   "execution_count": 12,
   "metadata": {},
   "outputs": [
    {
     "data": {
      "text/plain": [
       "array([[16, 17, 18, 19],\n",
       "       [ 8,  9, 10, 11],\n",
       "       [ 0,  1,  2,  3],\n",
       "       [12, 13, 14, 15],\n",
       "       [ 4,  5,  6,  7]])"
      ]
     },
     "execution_count": 12,
     "metadata": {},
     "output_type": "execute_result"
    }
   ],
   "source": [
    "# numpy.random.shuffle() method \n",
    "\n",
    "# Import numpy \n",
    "import numpy as np\n",
    "\n",
    "# Creates 2D array with integers between 0-19 , only shuffled along the first axis\n",
    "arr = np.arange(20).reshape((5, 4))\n",
    "# This function shuffles the array\n",
    "np.random.shuffle(arr)\n",
    "# Prints shuffled array\n",
    "arr"
   ]
  },
  {
   "cell_type": "markdown",
   "metadata": {},
   "source": [
    "__numpy.random.shuffle(x[, random])__ : shuffle method takes two parameters. out of the two random is an optional parameter.\n",
    "\n",
    "Shuffle method used to shuffle the sequence in place. i.e it changes the position of items in a list. we call it as a randomizes the items of a list in place.For example, Shuffling a pack of cards, shuffling list of a string"
   ]
  },
  {
   "cell_type": "code",
   "execution_count": 13,
   "metadata": {},
   "outputs": [
    {
     "name": "stdout",
     "output_type": "stream",
     "text": [
      "Original list :  [7, 14, 21, 28, 35, 42, 49, 56, 63, 70]\n",
      "List after first shuffle  :  [21, 14, 63, 56, 7, 35, 42, 49, 70, 28]\n",
      "List after second shuffle :  [35, 63, 7, 14, 21, 70, 28, 56, 42, 49]\n"
     ]
    }
   ],
   "source": [
    "# numpy.random.shuffle() method\n",
    "\n",
    "# Import numpy \n",
    "import numpy as np\n",
    "\n",
    "# Creates list on integers\n",
    "number_list = [7, 14, 21, 28, 35, 42, 49, 56, 63, 70]\n",
    "# Prints list \n",
    "print (\"Original list : \",  number_list)\n",
    "#shuffle method \n",
    "np.random.shuffle(number_list) \n",
    "# Prints shuffled list\n",
    "print (\"List after first shuffle  : \",  number_list)\n",
    "np.random.shuffle(number_list)\n",
    "# Prints shuffled list\n",
    "print (\"List after second shuffle : \",  number_list)"
   ]
  },
  {
   "cell_type": "markdown",
   "metadata": {},
   "source": [
    "### 2.2 Exmaple numpy.random.permutation\n",
    "__numpy.random.permutation(x)__: Randomly permute a sequence, or return a permuted range.\n",
    "If x is a multi-dimensional array, it is only shuffled along its first index."
   ]
  },
  {
   "cell_type": "code",
   "execution_count": 14,
   "metadata": {},
   "outputs": [
    {
     "data": {
      "text/plain": [
       "array([4, 2, 1, 0, 3])"
      ]
     },
     "execution_count": 14,
     "metadata": {},
     "output_type": "execute_result"
    }
   ],
   "source": [
    "# numpy.random.permutation() method\n",
    "\n",
    "# Import numpy \n",
    "import numpy as np\n",
    "\n",
    "# If x is an integer, randomly permute np.arange(x). If x is an array, make a copy and shuffle the elements randomly.\n",
    "# numpy.random.permutation(x)\n",
    "# Creates range of integeres between 0-4\n",
    "np.random.permutation(5)\n",
    "# Returns permuted sequence "
   ]
  },
  {
   "cell_type": "code",
   "execution_count": 15,
   "metadata": {},
   "outputs": [
    {
     "data": {
      "text/plain": [
       "array([ 5, 20, 30,  7, 21])"
      ]
     },
     "execution_count": 15,
     "metadata": {},
     "output_type": "execute_result"
    }
   ],
   "source": [
    "# numpy.random.permutation() method\n",
    "\n",
    "# Import numpy \n",
    "import numpy as np\n",
    "\n",
    "# If x is an integer, randomly permute np.arange(x). If x is an array, make a copy and shuffle the elements randomly.\n",
    "# numpy.random.permutation(x)\n",
    "# Creates array with given integers\n",
    "np.random.permutation([5, 7, 20, 21, 30])\n",
    "# Returns permuted sequence"
   ]
  },
  {
   "cell_type": "code",
   "execution_count": 16,
   "metadata": {},
   "outputs": [
    {
     "data": {
      "text/plain": [
       "array([[[16, 17],\n",
       "        [18, 19],\n",
       "        [20, 21],\n",
       "        [22, 23]],\n",
       "\n",
       "       [[ 0,  1],\n",
       "        [ 2,  3],\n",
       "        [ 4,  5],\n",
       "        [ 6,  7]],\n",
       "\n",
       "       [[ 8,  9],\n",
       "        [10, 11],\n",
       "        [12, 13],\n",
       "        [14, 15]]])"
      ]
     },
     "execution_count": 16,
     "metadata": {},
     "output_type": "execute_result"
    }
   ],
   "source": [
    "# numpy.random.permutation() method\n",
    "\n",
    "# Import numpy \n",
    "import numpy as np\n",
    "\n",
    "# If x is an integer, randomly permute np.arange(x). If x is an array, make a copy and shuffle the elements randomly.\n",
    "# numpy.random.permutation(x)\n",
    "# Creates 3D array with integers that are between 0-23\n",
    "arr = np.arange(24).reshape((3, 4, 2))\n",
    "# Returns array range\n",
    "np.random.permutation(arr)"
   ]
  },
  {
   "cell_type": "markdown",
   "metadata": {},
   "source": [
    "#### Shuffle vs Permutation"
   ]
  },
  {
   "cell_type": "code",
   "execution_count": 17,
   "metadata": {},
   "outputs": [
    {
     "name": "stdout",
     "output_type": "stream",
     "text": [
      "[1 3 4 2 0]\n",
      "Same result using permutation():\n",
      "[3 0 4 2 1]\n"
     ]
    }
   ],
   "source": [
    "# numpy.random.shuffle() method vs # numpy.random.permutation() method\n",
    "\n",
    "# Import numpy \n",
    "import numpy as np\n",
    "\n",
    "x = np.arange(5)\n",
    "np.random.shuffle(x)\n",
    "print(x)\n",
    "print(\"Same result using permutation():\")\n",
    "print(np.random.permutation(5))"
   ]
  },
  {
   "cell_type": "markdown",
   "metadata": {},
   "source": [
    "## 3. Distributions\n",
    "The distribution of a statistical data set (or a population) is a listing or function showing all the possible values (or intervals) of the data and how often they occur. When a distribution of categorical data is organized, you see the number or percentage of individuals in each group. When a distribution of numerical data is organized, they’re often ordered from smallest to largest, broken into reasonably sized groups (if appropriate), and then put into graphs and charts to examine the shape, center, and amount of variability in the data.The world of statistics includes dozens of different distributions for categorical and numerical data; the most common ones have their own names. "
   ]
  },
  {
   "cell_type": "markdown",
   "metadata": {},
   "source": [
    "### 3.1 Examle numpy.random.normal\n",
    "__numpy.random.normal(loc=0.0, scale=1.0, size=None)__\n",
    "A normal distribution in statistics is distribution that is shaped like a bell curve.\n",
    "With a normal distribution plot, the plot will be centered on the mean value.\n",
    "In a normal distribution, 68% of the data set will lie within ±1 standard deviation of the mean. 95% of the data set will lie within ±2 standard deviations of the mean. And 99.7% of the data set will lie within ±3 standard deviations of the mean."
   ]
  },
  {
   "cell_type": "code",
   "execution_count": 2,
   "metadata": {},
   "outputs": [
    {
     "data": {
      "image/png": "[encoded data removed]",
      "text/plain": [
       "<Figure size 432x288 with 1 Axes>"
      ]
     },
     "metadata": {},
     "output_type": "display_data"
    }
   ],
   "source": [
    "# numpy.random.normal() method\n",
    "\n",
    "# Import numpy\n",
    "import numpy as np \n",
    "# Import matplotlib\n",
    "import matplotlib.pyplot as plt\n",
    "\n",
    "# Creates the data for a normal distribution plot centered around a mean of 50, showing 2 standard deviations of the data, and creates 10,000 random data points that are of normal distribution.\n",
    "gaussian_numbers = np.random.normal(50,2, 10000)\n",
    "# Generates histogram\n",
    "plt.hist(gaussian_numbers)\n",
    "# Adds title\n",
    "plt.title(\"Gaussian Histogram\")\n",
    "# Creates lable \n",
    "plt.xlabel(\"Value\")\n",
    "# Creates lable \n",
    "plt.ylabel(\"Frequency\")\n",
    "# Shows plot\n",
    "plt.show()"
   ]
  },
  {
   "cell_type": "markdown",
   "metadata": {},
   "source": [
    "### 3.2 Example numpy.random.binomial\n",
    "__numpy.random.binomial(n, p, size=None)__\n",
    "The binomial distribution is a discrete probability distribution that models the outcomes of a given number of random trails of some experiment or event. The binomial is defined by two parameters: the probability of success in any given trial and the number of trials. The binomial distribution tells you how likely it is to achieve a given number of successes in n trials of the experiment. "
   ]
  },
  {
   "cell_type": "code",
   "execution_count": 272,
   "metadata": {},
   "outputs": [
    {
     "data": {
      "image/png": "[encoded data removed]",
      "text/plain": [
       "<Figure size 432x288 with 1 Axes>"
      ]
     },
     "metadata": {},
     "output_type": "display_data"
    }
   ],
   "source": [
    "# numpy.random.binomial() method\n",
    "\n",
    "import numpy as np\n",
    "\n",
    "\n",
    "\n",
    "binomial = np.random.binomial(n=20, p=0.8, size=10)\n",
    "\n",
    "\n",
    "plt.hist(binomial,bins = 20, density=True);\n",
    "\n",
    "# Adds title\n",
    "\n",
    "plt.show()"
   ]
  },
  {
   "cell_type": "markdown",
   "metadata": {},
   "source": [
    "## 4. Random generator"
   ]
  },
  {
   "cell_type": "markdown",
   "metadata": {},
   "source": [
    "### References:\n",
    "https://www.geeksforgeeks.org/python-numpy/\n",
    "\n",
    "https://pynative.com/python-random-module/\n",
    "\n",
    "https://docs.scipy.org/doc/numpy-1.15.1/reference/routines.random.html#simple-random-data\n",
    "\n",
    "https://docs.python.org/2/library/random.html\n",
    "\n",
    "https://towardsdatascience.com/a-quick-introduction-to-the-numpy-library-6f61b7dee4db\n",
    "\n",
    "https://www.dataquest.io/blog/numpy-tutorial-python/\n",
    "\n",
    "https://www.edureka.co/blog/python-numpy-tutorial/?utm_source=quora&utm_medium=crossposting&utm_campaign=social-media-sep-aj\n",
    "\n",
    "https://machinelearningmastery.com/statistical-data-distributions/\n",
    "\n",
    "https://www.vaishalilambe.com/blog/statistics-distribution"
   ]
  }
 ],
 "metadata": {
  "kernelspec": {
   "display_name": "Python 3",
   "language": "python",
   "name": "python3"
  },
  "language_info": {
   "codemirror_mode": {
    "name": "ipython",
    "version": 3
   },
   "file_extension": ".py",
   "mimetype": "text/x-python",
   "name": "python",
   "nbconvert_exporter": "python",
   "pygments_lexer": "ipython3",
   "version": "3.6.5"
  }
 },
 "nbformat": 4,
 "nbformat_minor": 2
}
