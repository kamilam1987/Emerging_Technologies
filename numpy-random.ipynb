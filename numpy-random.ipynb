{
 "cells": [
  {
   "cell_type": "markdown",
   "metadata": {},
   "source": [
    "# The numpy.random package"
   ]
  },
  {
   "cell_type": "markdown",
   "metadata": {},
   "source": [
    "![NumPy.png](img/NumPy.png)"
   ]
  },
  {
   "cell_type": "markdown",
   "metadata": {},
   "source": [
    "## What is a NumPy?\n",
    "\n",
    "NumPy is a Python package which stands for ‘Numerical Python’. It is an extension module for Python, mostly written in C. This makes sure that the precompiled mathematical and numerical functions and functionalities of NumPy guarantee great execution speed.\n",
    "\n",
    "Furthermore, NumPy enriches the programming language Python with powerful data structures, implementing multi-dimensional arrays and matrices. These data structures guarantee efficient calculations with matrices and arrays. The implementation is even aiming at huge matrices and arrays, better known under the heading of \"big data\". Besides that, the module supplies a large library of high-level mathematical functions to operate on these matrices and arrays."
   ]
  },
  {
   "cell_type": "markdown",
   "metadata": {},
   "source": [
    "### Advantages of using NumPy with Python:\n",
    "\n",
    "- array oriented computing\n",
    "- efficiently implemented multi-dimensional arrays\n",
    "- designed for scientific computation\n"
   ]
  },
  {
   "cell_type": "markdown",
   "metadata": {},
   "source": [
    "### How to install Numpy on Python?\n",
    "\n",
    "In most use cases the best way to install NumPy on your system is by using a pre-built package for your operating system. Please see http://scipy.org/install.html or https://solarianprogrammer.com/2017/02/25/install-numpy-scipy-matplotlib-python-3-windows/ for links to available options."
   ]
  },
  {
   "cell_type": "markdown",
   "metadata": {},
   "source": [
    "## Random sampling (numpy.random)\n",
    "\n",
    "Phyton comes with a random module which give us a wide variety of functions for generating random numbers. This is useful if we want to add unpredictability for a game or to run Monte Carlo simulations read here: http://www.palisade.com/risk/monte_carlo_simulation.asp.\n",
    "This module implements pseudo-random number generators for various distributions.For integers, uniform selection from a range. For sequences, uniform selection of a random element, a function to generate a random permutation of a list in-place, and a function for random sampling without replacement."
   ]
  },
  {
   "cell_type": "markdown",
   "metadata": {},
   "source": [
    "##### To import NumPy you need to write the following code:"
   ]
  },
  {
   "cell_type": "code",
   "execution_count": 1,
   "metadata": {},
   "outputs": [],
   "source": [
    "# Import numpy for random package\n",
    "import numpy as np"
   ]
  },
  {
   "cell_type": "markdown",
   "metadata": {},
   "source": [
    "## 1. Simple random data"
   ]
  },
  {
   "cell_type": "markdown",
   "metadata": {},
   "source": [
    "### 1.1 Example: numpy.random rand\n",
    "__Random values in a given shape.__\n",
    "\n",
    "__numpy.random.rand(d0, d1, …, dn)__ : Create an array of the given shape and populate it with random samples from a uniform distribution over [0, 1)."
   ]
  },
  {
   "cell_type": "code",
   "execution_count": 2,
   "metadata": {
    "scrolled": true
   },
   "outputs": [
    {
     "data": {
      "text/plain": [
       "array([0.95589422, 0.4024452 , 0.91883627, 0.61533937, 0.28015369])"
      ]
     },
     "execution_count": 2,
     "metadata": {},
     "output_type": "execute_result"
    }
   ],
   "source": [
    "# numpy.random.rand() method \n",
    "\n",
    "# Import numpy \n",
    "import numpy as np\n",
    "\n",
    "# Creates 1D array with five random values.\n",
    "np.random.rand(5)"
   ]
  },
  {
   "cell_type": "code",
   "execution_count": 3,
   "metadata": {},
   "outputs": [
    {
     "data": {
      "text/plain": [
       "array([[0.33307687, 0.35458929, 0.30283474, 0.48333126, 0.37556965],\n",
       "       [0.21045804, 0.02198673, 0.76799165, 0.39691645, 0.87206422],\n",
       "       [0.81123824, 0.86288246, 0.9191096 , 0.86238774, 0.54761799],\n",
       "       [0.38112728, 0.34643761, 0.19406238, 0.03697345, 0.50395494],\n",
       "       [0.73555212, 0.23828284, 0.94307302, 0.30434326, 0.34554835],\n",
       "       [0.20863531, 0.06506956, 0.87840304, 0.68196207, 0.99683417]])"
      ]
     },
     "execution_count": 3,
     "metadata": {},
     "output_type": "execute_result"
    }
   ],
   "source": [
    "# numpy.random.rand() method \n",
    "\n",
    "# Import numpy \n",
    "import numpy as np\n",
    "\n",
    "# Creates 2D array with thirty random values\n",
    "np.random.rand(6,5)"
   ]
  },
  {
   "cell_type": "markdown",
   "metadata": {},
   "source": [
    "### 1.2 Example: numpy.random randn\n",
    "__Return a sample (or samples) from the “standard normal” distribution.__\n",
    "\n",
    "__numpy.random.randn(d0, d1, …, dn)__ : creates an array of specified shape and fills it with random values as per standard normal distribution.\n",
    "\n",
    "If positive arguments are provided, randn generates an array of shape (d0, d1, …, dn), filled with random floats sampled from a univariate “normal” (Gaussian) distribution of mean 0 and variance 1 (if any of the d_i are floats, they are first converted to integers by truncation). A single float randomly sampled from the distribution is returned if no argument is provided."
   ]
  },
  {
   "cell_type": "code",
   "execution_count": 4,
   "metadata": {},
   "outputs": [
    {
     "data": {
      "text/plain": [
       "array([-0.78535622,  0.98384727, -0.84555541, -2.02921035])"
      ]
     },
     "execution_count": 4,
     "metadata": {},
     "output_type": "execute_result"
    }
   ],
   "source": [
    "# numpy.random.randn() method \n",
    "\n",
    "# Import numpy \n",
    "import numpy as np\n",
    "\n",
    "# Creates 1D Array with four random values\n",
    "np.random.randn(4)\n",
    "\n",
    "# Returns 1D Array filled with random floating-point samples from the standard normal distribution."
   ]
  },
  {
   "cell_type": "code",
   "execution_count": 5,
   "metadata": {},
   "outputs": [
    {
     "data": {
      "text/plain": [
       "array([[[ 1.45265669,  0.24045797, -0.16224304],\n",
       "        [-0.93947973,  0.09347218,  0.40420444],\n",
       "        [ 0.4146563 ,  0.97252121,  0.84304058],\n",
       "        [-0.34244149,  0.18758335,  0.88440763]],\n",
       "\n",
       "       [[ 0.46480182, -1.07002697, -1.72410165],\n",
       "        [-0.19390897, -1.04382046,  0.33267445],\n",
       "        [-0.15755565, -0.98292747,  0.65199907],\n",
       "        [-0.32812456,  1.04883294, -0.914723  ]]])"
      ]
     },
     "execution_count": 5,
     "metadata": {},
     "output_type": "execute_result"
    }
   ],
   "source": [
    "# numpy.random.randn() method \n",
    "\n",
    "# Import numpy \n",
    "import numpy as np\n",
    "\n",
    "# Creates 3D Array with random values\n",
    "np.random.randn(2,4,3)\n",
    "# Returns 3D Array filled with random floating-point samples from the standard normal distribution."
   ]
  },
  {
   "cell_type": "markdown",
   "metadata": {},
   "source": [
    "### 1.3 Example: numpy.random randint\n",
    "__Return random integers from low (inclusive) to high (exclusive).__\n",
    "\n",
    "__numpy.random.randint(low, high=None, size=None, dtype='l')__ : creates size-shaped array of random integers from the appropriate distribution, or a single such random int if size not provided.\n",
    "\n"
   ]
  },
  {
   "cell_type": "code",
   "execution_count": 6,
   "metadata": {},
   "outputs": [
    {
     "data": {
      "text/plain": [
       "array([12, 15, 19, 19, 14, 19, 17, 10])"
      ]
     },
     "execution_count": 6,
     "metadata": {},
     "output_type": "execute_result"
    }
   ],
   "source": [
    "# numpy.random.randint() method \n",
    "\n",
    "# Import numpy \n",
    "import numpy as np\n",
    "\n",
    "# Creates 1D Array with 8 integers between 9-19\n",
    "np.random.randint(9,20,size=8)\n",
    "\n",
    "# Returns size-shaped array of random integers from the appropriate distribution, or a single such random int if size not provided."
   ]
  },
  {
   "cell_type": "code",
   "execution_count": 7,
   "metadata": {},
   "outputs": [
    {
     "data": {
      "text/plain": [
       "array([[[0, 4, 2, 4, 0, 0],\n",
       "        [2, 1, 2, 3, 3, 2],\n",
       "        [0, 1, 0, 2, 3, 2],\n",
       "        [3, 2, 2, 1, 0, 1]],\n",
       "\n",
       "       [[4, 2, 1, 2, 1, 4],\n",
       "        [3, 2, 0, 0, 4, 1],\n",
       "        [1, 3, 4, 3, 1, 4],\n",
       "        [0, 1, 3, 0, 4, 1]],\n",
       "\n",
       "       [[1, 0, 0, 2, 2, 3],\n",
       "        [0, 4, 3, 4, 4, 4],\n",
       "        [1, 2, 2, 1, 0, 0],\n",
       "        [2, 4, 0, 1, 2, 0]]])"
      ]
     },
     "execution_count": 7,
     "metadata": {},
     "output_type": "execute_result"
    }
   ],
   "source": [
    "# numpy.random.randint() method \n",
    "\n",
    "# Import numpy \n",
    "import numpy as np\n",
    "\n",
    "# Creates 3D Array with 6x4 integers between 0-4\n",
    "np.random.randint(0,5,size=(3, 4, 6))\n",
    "\n",
    "# Returns size-shaped array of random integers from the appropriate distribution, or a single such random int if size not provided."
   ]
  },
  {
   "cell_type": "markdown",
   "metadata": {},
   "source": [
    "## 2. Permutations"
   ]
  },
  {
   "cell_type": "markdown",
   "metadata": {},
   "source": [
    "## 3. Distributions"
   ]
  },
  {
   "cell_type": "markdown",
   "metadata": {},
   "source": [
    "## 4. Random generator"
   ]
  },
  {
   "cell_type": "markdown",
   "metadata": {},
   "source": [
    "### References:\n",
    "https://www.geeksforgeeks.org/python-numpy/"
   ]
  }
 ],
 "metadata": {
  "kernelspec": {
   "display_name": "Python 3",
   "language": "python",
   "name": "python3"
  },
  "language_info": {
   "codemirror_mode": {
    "name": "ipython",
    "version": 3
   },
   "file_extension": ".py",
   "mimetype": "text/x-python",
   "name": "python",
   "nbconvert_exporter": "python",
   "pygments_lexer": "ipython3",
   "version": "3.6.5"
  }
 },
 "nbformat": 4,
 "nbformat_minor": 2
}
